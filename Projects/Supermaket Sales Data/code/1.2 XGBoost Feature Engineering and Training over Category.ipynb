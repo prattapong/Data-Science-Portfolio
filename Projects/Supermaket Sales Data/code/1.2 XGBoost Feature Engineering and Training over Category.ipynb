{
 "cells": [
  {
   "cell_type": "markdown",
   "metadata": {},
   "source": [
    "# 1. Import libraries"
   ]
  },
  {
   "cell_type": "code",
   "execution_count": 43,
   "metadata": {},
   "outputs": [],
   "source": [
    "import numpy as np\n",
    "import pandas as pd\n",
    "import requests\n",
    "from io import StringIO\n",
    "import matplotlib.pyplot as plt\n",
    "import seaborn as sns\n",
    "from datetime import datetime as dt\n",
    "from datetime import timedelta\n",
    "import holidays\n",
    "\n",
    "import xgboost as xgb\n",
    "from sklearn.model_selection import TimeSeriesSplit\n",
    "from sklearn.preprocessing import StandardScaler\n",
    "from sklearn.metrics import mean_squared_error"
   ]
  },
  {
   "cell_type": "markdown",
   "metadata": {},
   "source": [
    "# 2. Load data"
   ]
  },
  {
   "cell_type": "code",
   "execution_count": 12,
   "metadata": {},
   "outputs": [],
   "source": [
    "# Define url path to CSV\n",
    "annex1 = 'https://raw.githubusercontent.com/prattapong/Data-Science-Portfolio/main/Projects/Supermaket%20Sales%20Data/data/annex1.csv'\n",
    "annex2 = 'https://raw.githubusercontent.com/prattapong/Data-Science-Portfolio/main/Projects/Supermaket%20Sales%20Data/data/annex2.csv'\n",
    "annex3 = 'https://raw.githubusercontent.com/prattapong/Data-Science-Portfolio/main/Projects/Supermaket%20Sales%20Data/data/annex3.csv'\n",
    "annex4 = 'https://raw.githubusercontent.com/prattapong/Data-Science-Portfolio/main/Projects/Supermaket%20Sales%20Data/data/annex4.csv'"
   ]
  },
  {
   "cell_type": "code",
   "execution_count": 13,
   "metadata": {},
   "outputs": [],
   "source": [
    "def get_df_from_url(url):\n",
    "    # Create request response\n",
    "    response = requests.get(url)\n",
    "\n",
    "    # Check if the request was successful (status code 200)\n",
    "    if response.status_code == 200:\n",
    "        # Create a file-like object from the raw content\n",
    "        csv_content = StringIO(response.text)\n",
    "\n",
    "        # Read the CSV file into a DataFrame\n",
    "        df = pd.read_csv(csv_content)\n",
    "\n",
    "        # Return DataFrame\n",
    "        return df\n",
    "    else:\n",
    "        print(f\"Failed to fetch data. Status code: {response.status_code}\")\n",
    "\n",
    "df_item = get_df_from_url(annex1)\n",
    "df_transaction = get_df_from_url(annex2)\n",
    "df_wholesale = get_df_from_url(annex3)\n",
    "df_loss = get_df_from_url(annex4)"
   ]
  },
  {
   "cell_type": "markdown",
   "metadata": {},
   "source": [
    "# 3. Merge and aggregate data"
   ]
  },
  {
   "cell_type": "code",
   "execution_count": 88,
   "metadata": {},
   "outputs": [],
   "source": [
    "def merge_all_df(df_transaction: pd.DataFrame = df_transaction,\n",
    "                 df_item: pd.DataFrame = df_item,\n",
    "                 df_wholesale: pd.DataFrame = df_wholesale,\n",
    "                 df_loss: pd.DataFrame = df_loss):\n",
    "\n",
    "    df_merge = df_transaction.merge(df_item,\n",
    "                                    how = 'left',\n",
    "                                    on = 'Item Code')\n",
    "    df_merge = df_merge.merge(df_wholesale,\n",
    "                            how = 'left',\n",
    "                            on = ['Date', 'Item Code'])\n",
    "    df_merge = df_merge.merge(df_loss.drop('Item Name', axis = 1),\n",
    "                            how = 'left',\n",
    "                            on = 'Item Code')\n",
    "    \n",
    "    return df_merge\n",
    "\n",
    "df_merge = merge_all_df()"
   ]
  },
  {
   "cell_type": "code",
   "execution_count": 89,
   "metadata": {},
   "outputs": [
    {
     "data": {
      "text/html": [
       "<div>\n",
       "<style scoped>\n",
       "    .dataframe tbody tr th:only-of-type {\n",
       "        vertical-align: middle;\n",
       "    }\n",
       "\n",
       "    .dataframe tbody tr th {\n",
       "        vertical-align: top;\n",
       "    }\n",
       "\n",
       "    .dataframe thead th {\n",
       "        text-align: right;\n",
       "    }\n",
       "</style>\n",
       "<table border=\"1\" class=\"dataframe\">\n",
       "  <thead>\n",
       "    <tr style=\"text-align: right;\">\n",
       "      <th></th>\n",
       "      <th>Date</th>\n",
       "      <th>Category Code</th>\n",
       "      <th>Item Code</th>\n",
       "      <th>Sales</th>\n",
       "    </tr>\n",
       "  </thead>\n",
       "  <tbody>\n",
       "    <tr>\n",
       "      <th>0</th>\n",
       "      <td>2020-07-01</td>\n",
       "      <td>1011010101</td>\n",
       "      <td>102900005115762</td>\n",
       "      <td>41.046</td>\n",
       "    </tr>\n",
       "    <tr>\n",
       "      <th>1</th>\n",
       "      <td>2020-07-01</td>\n",
       "      <td>1011010101</td>\n",
       "      <td>102900005115779</td>\n",
       "      <td>335.728</td>\n",
       "    </tr>\n",
       "    <tr>\n",
       "      <th>2</th>\n",
       "      <td>2020-07-01</td>\n",
       "      <td>1011010101</td>\n",
       "      <td>102900005115786</td>\n",
       "      <td>68.112</td>\n",
       "    </tr>\n",
       "    <tr>\n",
       "      <th>3</th>\n",
       "      <td>2020-07-01</td>\n",
       "      <td>1011010101</td>\n",
       "      <td>102900005115793</td>\n",
       "      <td>68.608</td>\n",
       "    </tr>\n",
       "    <tr>\n",
       "      <th>4</th>\n",
       "      <td>2020-07-01</td>\n",
       "      <td>1011010101</td>\n",
       "      <td>102900005115823</td>\n",
       "      <td>114.760</td>\n",
       "    </tr>\n",
       "  </tbody>\n",
       "</table>\n",
       "</div>"
      ],
      "text/plain": [
       "         Date  Category Code        Item Code    Sales\n",
       "0  2020-07-01     1011010101  102900005115762   41.046\n",
       "1  2020-07-01     1011010101  102900005115779  335.728\n",
       "2  2020-07-01     1011010101  102900005115786   68.112\n",
       "3  2020-07-01     1011010101  102900005115793   68.608\n",
       "4  2020-07-01     1011010101  102900005115823  114.760"
      ]
     },
     "execution_count": 89,
     "metadata": {},
     "output_type": "execute_result"
    }
   ],
   "source": [
    "# Create Sales column\n",
    "df_merge['Sales'] = df_merge['Unit Selling Price (RMB/kg)'] * df_merge['Quantity Sold (kilo)']\n",
    "\n",
    "# Aggregate as new table\n",
    "df_agg = df_merge.groupby(['Date', 'Category Code', 'Item Code'], as_index = False)['Sales'].sum()\n",
    "df_agg.head()"
   ]
  },
  {
   "cell_type": "markdown",
   "metadata": {},
   "source": [
    "# 4. Feature Engineering"
   ]
  },
  {
   "cell_type": "code",
   "execution_count": 90,
   "metadata": {},
   "outputs": [],
   "source": [
    "def create_date_feature(df: pd.DataFrame,\n",
    "                       date_column: str):\n",
    "    # Convert the 'Date' column to datetime type\n",
    "    df['Date'] = pd.to_datetime(df['Date'])\n",
    "\n",
    "    # Extract date components\n",
    "    df['Year'] = df['Date'].dt.year\n",
    "    df['Month'] = df['Date'].dt.month\n",
    "    df['Day'] = df['Date'].dt.day\n",
    "    df['DayOfWeek'] = df['Date'].dt.dayofweek  # Monday is 0 and Sunday is 6\n",
    "    df['WeekNumber'] = df['Date'].dt.isocalendar().week\n",
    "    df['Quarter'] = df['Date'].dt.quarter\n",
    "    \n",
    "    return df\n",
    "\n",
    "def is_holiday(date_value):\n",
    "    china_holidays = holidays.country_holidays('CN')\n",
    "    value = 1 if date_value in china_holidays else 0\n",
    "    return value\n",
    "\n",
    "def create_days_lag_feature(df: pd.DataFrame, \n",
    "                            days: int,\n",
    "                            grouping_column: list):\n",
    "    \n",
    "    # Cast date column to datetime\n",
    "    df['Date'] = pd.to_datetime(df['Date'])\n",
    "    df['Date'] = df['Date'].astype('datetime64[ns]')\n",
    "    # Duplicate DataFrame\n",
    "    df_lag = df.copy()\n",
    "\n",
    "    # Minus number of days\n",
    "    df_lag['Date'] = df_lag['Date'] + timedelta(days = days)\n",
    "\n",
    "    # Merge to original DataFrame for new features\n",
    "    df = df.merge(df_lag,\n",
    "                  how = 'left',\n",
    "                  on = grouping_column,\n",
    "                  suffixes = ['', f'_{days}_daylag'])\n",
    "    \n",
    "    return df"
   ]
  },
  {
   "cell_type": "markdown",
   "metadata": {},
   "source": [
    "# 5. Data Preprocessing"
   ]
  },
  {
   "cell_type": "markdown",
   "metadata": {},
   "source": [
    "## 5.1 Change dtype"
   ]
  },
  {
   "cell_type": "code",
   "execution_count": 91,
   "metadata": {},
   "outputs": [],
   "source": [
    "def reduce_memory_usage(df: pd.DataFrame,\n",
    "                        categorical_columns: list = None):\n",
    "    start_memory = df.memory_usage().sum() / 1024**2\n",
    "\n",
    "    # Handle categorical columns\n",
    "    if categorical_columns is not None:\n",
    "        for col in categorical_columns:\n",
    "            df[col] = df[col].astype('category')\n",
    "    else:\n",
    "        pass\n",
    "    \n",
    "    for col in df.columns:\n",
    "        #  handle numerical features\n",
    "        if df[col].dtype.name != 'object' and df[col].dtype.name != 'category':\n",
    "            num_min = df[col].min()\n",
    "            num_max = df[col].max()\n",
    "        \n",
    "            # minimize int dtype bytes\n",
    "            if 'int' in df[col].dtype.name:\n",
    "                if num_min > np.iinfo(np.int8).min and num_max < np.iinfo(np.int8).max:\n",
    "                    df[col] = df[col].astype('int8')\n",
    "                elif num_min > np.iinfo(np.int16).min and num_max < np.iinfo(np.int16).max:\n",
    "                    df[col] = df[col].astype('int16')\n",
    "                elif num_min > np.iinfo(np.int32).min and num_max < np.iinfo(np.int32).max:\n",
    "                    df[col] = df[col].astype('int32')\n",
    "                else:\n",
    "                    df[col] = df[col].astype('int64')\n",
    "                    \n",
    "            # minimize float dtype bytes\n",
    "            elif 'float' in df[col].dtype.name:\n",
    "                if num_min > np.finfo(np.float16).min and num_max < np.finfo(np.float16).max:\n",
    "                    df[col] = df[col].astype('float16')\n",
    "                elif num_min > np.finfo(np.float32).min and num_max < np.finfo(np.float32).max:\n",
    "                    df[col] = df[col].astype('float32')\n",
    "                else:\n",
    "                    df[col] = df[col].astype('float64')\n",
    "        \n",
    "        # handle object columns\n",
    "        else:\n",
    "            df[col] = df[col].astype('category')\n",
    "\n",
    "    end_memory = df.memory_usage().sum() / 1024**2\n",
    "    print('Start Memory: {:.2f} MB\\nEnd Memory: {:.2f} MB'.format(start_memory, end_memory))\n",
    "    return df"
   ]
  },
  {
   "cell_type": "code",
   "execution_count": 92,
   "metadata": {},
   "outputs": [
    {
     "name": "stdout",
     "output_type": "stream",
     "text": [
      "Start Memory: 1.42 MB\n",
      "End Memory: 0.36 MB\n"
     ]
    },
    {
     "data": {
      "text/plain": [
       "Date             category\n",
       "Category Code    category\n",
       "Item Code        category\n",
       "Sales             float16\n",
       "dtype: object"
      ]
     },
     "execution_count": 92,
     "metadata": {},
     "output_type": "execute_result"
    }
   ],
   "source": [
    "categorical_columns = ['Category Code', 'Item Code']\n",
    "df_agg = reduce_memory_usage(df = df_agg,\n",
    "                             categorical_columns = categorical_columns)\n",
    "df_agg.dtypes"
   ]
  },
  {
   "cell_type": "markdown",
   "metadata": {},
   "source": [
    "## 5.2 Split train and test data"
   ]
  },
  {
   "cell_type": "code",
   "execution_count": 93,
   "metadata": {},
   "outputs": [],
   "source": [
    "def create_split_date(df: pd.DataFrame,\n",
    "                      date_column: str,\n",
    "                      train_size: float):\n",
    "    # Get max and min date of the dataset\n",
    "    try:\n",
    "        max_date, min_date = dt.strptime(df[date_column].max(), '%Y-%m-%d'), dt.strptime(df[date_column].min(), '%Y-%m-%d')\n",
    "    except:\n",
    "        max_date, min_date = df[date_column].max(), df[date_column].min()\n",
    "\n",
    "    # Calculate 80% of the date range for splitting\n",
    "    date_difference = max_date - min_date\n",
    "    train_split = (min_date + train_size * date_difference).date()\n",
    "    \n",
    "    return train_split\n",
    "\n",
    "def split_train_test_date(df: pd.DataFrame, split_date):\n",
    "    \"\"\"\n",
    "    Split train and test data based on date\n",
    "    \"\"\"\n",
    "\n",
    "    \"\"\" Args:\n",
    "    df: DataFrame to split\n",
    "    split_date: Date to split between train and test data\n",
    "    \"\"\"\n",
    "\n",
    "    \"\"\" Return:\n",
    "    train, test: pd.DataFrame\n",
    "    \"\"\"\n",
    "    \n",
    "    # Split train and test\n",
    "    train = df[df['Date'].dt.date <= split_date]\n",
    "    train = train.drop('Date', axis = 1)\n",
    "    test = df[df['Date'].dt.date > split_date]\n",
    "    test = test.drop('Date', axis = 1)\n",
    "\n",
    "    print(f'Train size: {train.shape[0]} | {(100 * train.shape[0]/df.shape[0]):.2f}%')\n",
    "    print(f'Test size: {test.shape[0]} | {(100 * test.shape[0]/df.shape[0]):.2f}%')\n",
    "\n",
    "    return train, test\n"
   ]
  },
  {
   "cell_type": "markdown",
   "metadata": {},
   "source": [
    "# 6. Train and evaluate"
   ]
  },
  {
   "cell_type": "markdown",
   "metadata": {},
   "source": [
    "## 6.1 Train"
   ]
  },
  {
   "cell_type": "code",
   "execution_count": 94,
   "metadata": {},
   "outputs": [],
   "source": [
    "def category_train_loop(df: pd.DataFrame, \n",
    "                        categories: list, \n",
    "                        xgb_model,\n",
    "                        scaler = None,\n",
    "                        include_item: bool = False):\n",
    "    \"\"\"\n",
    "    Loop all category and train in each model separatelly\n",
    "    \"\"\"\n",
    "\n",
    "    test_all = pd.DataFrame()\n",
    "    y_pred_all = []\n",
    "    for category in categories:\n",
    "        print(f'Catgory Trainig: {category}')\n",
    "\n",
    "        # Slice DataFrame to each category\n",
    "        df_category = df[df['Category Code'] == category]\n",
    "\n",
    "        # Aggregate\n",
    "        if include_item == True:\n",
    "            df_category = df_category.groupby(['Date', 'Item Code', 'Category Code'], as_index = False)['Sales'].sum()\n",
    "            # Create lag feature\n",
    "            df_category = create_days_lag_feature(df = df_category,\n",
    "                                                days = 364,\n",
    "                                                grouping_column = ['Date', 'Item Code', 'Category Code'])\n",
    "        elif include_item == False:\n",
    "            df_category = df_category.groupby(['Date', 'Category Code'], as_index = False)['Sales'].sum()\n",
    "            # Create lag feature\n",
    "            df_category = create_days_lag_feature(df = df_category,\n",
    "                                                days = 364,\n",
    "                                                grouping_column = ['Date', 'Category Code'])\n",
    "\n",
    "        # Feature holiday\n",
    "        df_category['is_holiday'] = df_category['Date'].apply(is_holiday)\n",
    "\n",
    "        # Create date feature\n",
    "        df_category = create_date_feature(df = df_category,\n",
    "                                          date_column = 'Date')\n",
    "\n",
    "        # Split train and test\n",
    "        train_split = create_split_date(df = df,\n",
    "                                        date_column = 'Date',\n",
    "                                        train_size = 0.8)\n",
    "        train, test = split_train_test_date(df = df_category,\n",
    "                                            split_date = train_split)\n",
    "\n",
    "        # Create X and y to train and test\n",
    "        X_train, y_train = train.drop('Sales', axis = 1), train[['Sales']]\n",
    "        X_test, y_test = test.drop('Sales', axis = 1), test[['Sales']]\n",
    "\n",
    "        # Scale data\n",
    "        if scaler:\n",
    "            X_train = scaler.fit_transform(X_train)\n",
    "            X_test = scaler.transform(X_test)\n",
    "        else:\n",
    "            pass\n",
    "\n",
    "        ### Training\n",
    "        print(f'Training...')\n",
    "        xgb_model.fit(X = X_train,\n",
    "                      y = y_train,\n",
    "                      eval_set = [(X_train, y_train), (X_test, y_test)],\n",
    "                      verbose = 100)\n",
    "        print('--------------------------------------------\\n')\n",
    "\n",
    "        ### Predict\n",
    "        y_pred = xgb_model.predict(X_test)\n",
    "\n",
    "        # Append data to all data\n",
    "        test_all = pd.concat([test_all, test], axis = 0)\n",
    "        y_pred_all = np.concatenate((y_pred_all, y_pred))\n",
    "\n",
    "    return test_all, y_pred_all\n",
    "\n",
    "def plot_prediction(df_test: pd.DataFrame,\n",
    "                    y_pred):\n",
    "    \n",
    "    # Merge prediction to test data\n",
    "    df_predict = df_test.reset_index().merge(pd.DataFrame(data = y_pred, columns = ['prediction']),\n",
    "                                             how = 'left',\n",
    "                                             left_index = True,\n",
    "                                             right_index = True)\n",
    "    df_predict['Date'] = pd.to_datetime(df_predict[['Year', 'Month', 'Day']])\n",
    "\n",
    "    # Aggregate to Category level\n",
    "    df_predict_agg = df_predict.groupby(['Date','Category Code'], as_index = False)[['Sales','prediction']].sum()\n",
    "\n",
    "    # Calculate RMSE in Category level\n",
    "    rmse = np.sqrt(mean_squared_error(y_true = df_predict_agg['Sales'],\n",
    "                                        y_pred = df_predict_agg['prediction']))\n",
    "    print(f'RMSE: {rmse:.2f}')\n",
    "\n",
    "    # Plot prediction\n",
    "    plt.figure(figsize = (10,5))\n",
    "    sns.lineplot(data = df_predict.groupby('Date')['Sales'].sum(), label = 'True label')\n",
    "    sns.lineplot(data = df_predict.groupby('Date')['prediction'].sum(), label = 'Prediction')\n",
    "    plt.show()\n",
    "    "
   ]
  },
  {
   "cell_type": "code",
   "execution_count": 95,
   "metadata": {},
   "outputs": [
    {
     "name": "stdout",
     "output_type": "stream",
     "text": [
      "Catgory Trainig: 1011010101\n"
     ]
    },
    {
     "ename": "TypeError",
     "evalue": "Categorical is not ordered for operation max\nyou can use .as_ordered() to change the Categorical to an ordered one\n",
     "output_type": "error",
     "traceback": [
      "\u001b[1;31m---------------------------------------------------------------------------\u001b[0m",
      "\u001b[1;31mTypeError\u001b[0m                                 Traceback (most recent call last)",
      "Cell \u001b[1;32mIn[93], line 6\u001b[0m, in \u001b[0;36mcreate_split_date\u001b[1;34m(df, date_column, train_size)\u001b[0m\n\u001b[0;32m      5\u001b[0m \u001b[38;5;28;01mtry\u001b[39;00m:\n\u001b[1;32m----> 6\u001b[0m     max_date, min_date \u001b[38;5;241m=\u001b[39m dt\u001b[38;5;241m.\u001b[39mstrptime(df[date_column]\u001b[38;5;241m.\u001b[39mmax(), \u001b[38;5;124m'\u001b[39m\u001b[38;5;124m%\u001b[39m\u001b[38;5;124mY-\u001b[39m\u001b[38;5;124m%\u001b[39m\u001b[38;5;124mm-\u001b[39m\u001b[38;5;132;01m%d\u001b[39;00m\u001b[38;5;124m'\u001b[39m), dt\u001b[38;5;241m.\u001b[39mstrptime(df[date_column]\u001b[38;5;241m.\u001b[39mmin(), \u001b[38;5;124m'\u001b[39m\u001b[38;5;124m%\u001b[39m\u001b[38;5;124mY-\u001b[39m\u001b[38;5;124m%\u001b[39m\u001b[38;5;124mm-\u001b[39m\u001b[38;5;132;01m%d\u001b[39;00m\u001b[38;5;124m'\u001b[39m)\n\u001b[0;32m      7\u001b[0m \u001b[38;5;28;01mexcept\u001b[39;00m:\n",
      "File \u001b[1;32mc:\\Users\\G2\\anaconda3\\Lib\\site-packages\\pandas\\core\\generic.py:11646\u001b[0m, in \u001b[0;36mNDFrame._add_numeric_operations.<locals>.max\u001b[1;34m(self, axis, skipna, numeric_only, **kwargs)\u001b[0m\n\u001b[0;32m  11627\u001b[0m \u001b[38;5;129m@doc\u001b[39m(\n\u001b[0;32m  11628\u001b[0m     _num_doc,\n\u001b[0;32m  11629\u001b[0m     desc\u001b[38;5;241m=\u001b[39m\u001b[38;5;124m\"\u001b[39m\u001b[38;5;124mReturn the maximum of the values over the requested axis.\u001b[39m\u001b[38;5;130;01m\\n\u001b[39;00m\u001b[38;5;130;01m\\n\u001b[39;00m\u001b[38;5;124m\"\u001b[39m\n\u001b[1;32m   (...)\u001b[0m\n\u001b[0;32m  11644\u001b[0m     \u001b[38;5;241m*\u001b[39m\u001b[38;5;241m*\u001b[39mkwargs,\n\u001b[0;32m  11645\u001b[0m ):\n\u001b[1;32m> 11646\u001b[0m     \u001b[38;5;28;01mreturn\u001b[39;00m NDFrame\u001b[38;5;241m.\u001b[39mmax(\u001b[38;5;28mself\u001b[39m, axis, skipna, numeric_only, \u001b[38;5;241m*\u001b[39m\u001b[38;5;241m*\u001b[39mkwargs)\n",
      "File \u001b[1;32mc:\\Users\\G2\\anaconda3\\Lib\\site-packages\\pandas\\core\\generic.py:11185\u001b[0m, in \u001b[0;36mNDFrame.max\u001b[1;34m(self, axis, skipna, numeric_only, **kwargs)\u001b[0m\n\u001b[0;32m  11178\u001b[0m \u001b[38;5;28;01mdef\u001b[39;00m \u001b[38;5;21mmax\u001b[39m(\n\u001b[0;32m  11179\u001b[0m     \u001b[38;5;28mself\u001b[39m,\n\u001b[0;32m  11180\u001b[0m     axis: Axis \u001b[38;5;241m|\u001b[39m \u001b[38;5;28;01mNone\u001b[39;00m \u001b[38;5;241m=\u001b[39m \u001b[38;5;241m0\u001b[39m,\n\u001b[1;32m   (...)\u001b[0m\n\u001b[0;32m  11183\u001b[0m     \u001b[38;5;241m*\u001b[39m\u001b[38;5;241m*\u001b[39mkwargs,\n\u001b[0;32m  11184\u001b[0m ):\n\u001b[1;32m> 11185\u001b[0m     \u001b[38;5;28;01mreturn\u001b[39;00m \u001b[38;5;28mself\u001b[39m\u001b[38;5;241m.\u001b[39m_stat_function(\n\u001b[0;32m  11186\u001b[0m         \u001b[38;5;124m\"\u001b[39m\u001b[38;5;124mmax\u001b[39m\u001b[38;5;124m\"\u001b[39m,\n\u001b[0;32m  11187\u001b[0m         nanops\u001b[38;5;241m.\u001b[39mnanmax,\n\u001b[0;32m  11188\u001b[0m         axis,\n\u001b[0;32m  11189\u001b[0m         skipna,\n\u001b[0;32m  11190\u001b[0m         numeric_only,\n\u001b[0;32m  11191\u001b[0m         \u001b[38;5;241m*\u001b[39m\u001b[38;5;241m*\u001b[39mkwargs,\n\u001b[0;32m  11192\u001b[0m     )\n",
      "File \u001b[1;32mc:\\Users\\G2\\anaconda3\\Lib\\site-packages\\pandas\\core\\generic.py:11158\u001b[0m, in \u001b[0;36mNDFrame._stat_function\u001b[1;34m(self, name, func, axis, skipna, numeric_only, **kwargs)\u001b[0m\n\u001b[0;32m  11156\u001b[0m validate_bool_kwarg(skipna, \u001b[38;5;124m\"\u001b[39m\u001b[38;5;124mskipna\u001b[39m\u001b[38;5;124m\"\u001b[39m, none_allowed\u001b[38;5;241m=\u001b[39m\u001b[38;5;28;01mFalse\u001b[39;00m)\n\u001b[1;32m> 11158\u001b[0m \u001b[38;5;28;01mreturn\u001b[39;00m \u001b[38;5;28mself\u001b[39m\u001b[38;5;241m.\u001b[39m_reduce(\n\u001b[0;32m  11159\u001b[0m     func, name\u001b[38;5;241m=\u001b[39mname, axis\u001b[38;5;241m=\u001b[39maxis, skipna\u001b[38;5;241m=\u001b[39mskipna, numeric_only\u001b[38;5;241m=\u001b[39mnumeric_only\n\u001b[0;32m  11160\u001b[0m )\n",
      "File \u001b[1;32mc:\\Users\\G2\\anaconda3\\Lib\\site-packages\\pandas\\core\\series.py:4656\u001b[0m, in \u001b[0;36mSeries._reduce\u001b[1;34m(self, op, name, axis, skipna, numeric_only, filter_type, **kwds)\u001b[0m\n\u001b[0;32m   4654\u001b[0m \u001b[38;5;28;01mif\u001b[39;00m \u001b[38;5;28misinstance\u001b[39m(delegate, ExtensionArray):\n\u001b[0;32m   4655\u001b[0m     \u001b[38;5;66;03m# dispatch to ExtensionArray interface\u001b[39;00m\n\u001b[1;32m-> 4656\u001b[0m     \u001b[38;5;28;01mreturn\u001b[39;00m delegate\u001b[38;5;241m.\u001b[39m_reduce(name, skipna\u001b[38;5;241m=\u001b[39mskipna, \u001b[38;5;241m*\u001b[39m\u001b[38;5;241m*\u001b[39mkwds)\n\u001b[0;32m   4658\u001b[0m \u001b[38;5;28;01melse\u001b[39;00m:\n\u001b[0;32m   4659\u001b[0m     \u001b[38;5;66;03m# dispatch to numpy arrays\u001b[39;00m\n",
      "File \u001b[1;32mc:\\Users\\G2\\anaconda3\\Lib\\site-packages\\pandas\\core\\arrays\\base.py:1444\u001b[0m, in \u001b[0;36mExtensionArray._reduce\u001b[1;34m(self, name, skipna, **kwargs)\u001b[0m\n\u001b[0;32m   1440\u001b[0m     \u001b[38;5;28;01mraise\u001b[39;00m \u001b[38;5;167;01mTypeError\u001b[39;00m(\n\u001b[0;32m   1441\u001b[0m         \u001b[38;5;124mf\u001b[39m\u001b[38;5;124m\"\u001b[39m\u001b[38;5;124m'\u001b[39m\u001b[38;5;132;01m{\u001b[39;00m\u001b[38;5;28mtype\u001b[39m(\u001b[38;5;28mself\u001b[39m)\u001b[38;5;241m.\u001b[39m\u001b[38;5;18m__name__\u001b[39m\u001b[38;5;132;01m}\u001b[39;00m\u001b[38;5;124m'\u001b[39m\u001b[38;5;124m with dtype \u001b[39m\u001b[38;5;132;01m{\u001b[39;00m\u001b[38;5;28mself\u001b[39m\u001b[38;5;241m.\u001b[39mdtype\u001b[38;5;132;01m}\u001b[39;00m\u001b[38;5;124m \u001b[39m\u001b[38;5;124m\"\u001b[39m\n\u001b[0;32m   1442\u001b[0m         \u001b[38;5;124mf\u001b[39m\u001b[38;5;124m\"\u001b[39m\u001b[38;5;124mdoes not support reduction \u001b[39m\u001b[38;5;124m'\u001b[39m\u001b[38;5;132;01m{\u001b[39;00mname\u001b[38;5;132;01m}\u001b[39;00m\u001b[38;5;124m'\u001b[39m\u001b[38;5;124m\"\u001b[39m\n\u001b[0;32m   1443\u001b[0m     )\n\u001b[1;32m-> 1444\u001b[0m \u001b[38;5;28;01mreturn\u001b[39;00m meth(skipna\u001b[38;5;241m=\u001b[39mskipna, \u001b[38;5;241m*\u001b[39m\u001b[38;5;241m*\u001b[39mkwargs)\n",
      "File \u001b[1;32mc:\\Users\\G2\\anaconda3\\Lib\\site-packages\\pandas\\core\\arrays\\categorical.py:2037\u001b[0m, in \u001b[0;36mCategorical.max\u001b[1;34m(self, skipna, **kwargs)\u001b[0m\n\u001b[0;32m   2036\u001b[0m nv\u001b[38;5;241m.\u001b[39mvalidate_max((), kwargs)\n\u001b[1;32m-> 2037\u001b[0m \u001b[38;5;28mself\u001b[39m\u001b[38;5;241m.\u001b[39mcheck_for_ordered(\u001b[38;5;124m\"\u001b[39m\u001b[38;5;124mmax\u001b[39m\u001b[38;5;124m\"\u001b[39m)\n\u001b[0;32m   2039\u001b[0m \u001b[38;5;28;01mif\u001b[39;00m \u001b[38;5;129;01mnot\u001b[39;00m \u001b[38;5;28mlen\u001b[39m(\u001b[38;5;28mself\u001b[39m\u001b[38;5;241m.\u001b[39m_codes):\n",
      "File \u001b[1;32mc:\\Users\\G2\\anaconda3\\Lib\\site-packages\\pandas\\core\\arrays\\categorical.py:1553\u001b[0m, in \u001b[0;36mCategorical.check_for_ordered\u001b[1;34m(self, op)\u001b[0m\n\u001b[0;32m   1552\u001b[0m \u001b[38;5;28;01mif\u001b[39;00m \u001b[38;5;129;01mnot\u001b[39;00m \u001b[38;5;28mself\u001b[39m\u001b[38;5;241m.\u001b[39mordered:\n\u001b[1;32m-> 1553\u001b[0m     \u001b[38;5;28;01mraise\u001b[39;00m \u001b[38;5;167;01mTypeError\u001b[39;00m(\n\u001b[0;32m   1554\u001b[0m         \u001b[38;5;124mf\u001b[39m\u001b[38;5;124m\"\u001b[39m\u001b[38;5;124mCategorical is not ordered for operation \u001b[39m\u001b[38;5;132;01m{\u001b[39;00mop\u001b[38;5;132;01m}\u001b[39;00m\u001b[38;5;130;01m\\n\u001b[39;00m\u001b[38;5;124m\"\u001b[39m\n\u001b[0;32m   1555\u001b[0m         \u001b[38;5;124m\"\u001b[39m\u001b[38;5;124myou can use .as_ordered() to change the \u001b[39m\u001b[38;5;124m\"\u001b[39m\n\u001b[0;32m   1556\u001b[0m         \u001b[38;5;124m\"\u001b[39m\u001b[38;5;124mCategorical to an ordered one\u001b[39m\u001b[38;5;130;01m\\n\u001b[39;00m\u001b[38;5;124m\"\u001b[39m\n\u001b[0;32m   1557\u001b[0m     )\n",
      "\u001b[1;31mTypeError\u001b[0m: Categorical is not ordered for operation max\nyou can use .as_ordered() to change the Categorical to an ordered one\n",
      "\nDuring handling of the above exception, another exception occurred:\n",
      "\u001b[1;31mTypeError\u001b[0m                                 Traceback (most recent call last)",
      "Cell \u001b[1;32mIn[95], line 10\u001b[0m\n\u001b[0;32m      2\u001b[0m scaler \u001b[38;5;241m=\u001b[39m StandardScaler()\n\u001b[0;32m      3\u001b[0m xgb_reg \u001b[38;5;241m=\u001b[39m xgb\u001b[38;5;241m.\u001b[39mXGBRegressor(n_estimators \u001b[38;5;241m=\u001b[39m \u001b[38;5;241m5000\u001b[39m,\n\u001b[0;32m      4\u001b[0m                             eval_metrics \u001b[38;5;241m=\u001b[39m mean_squared_error,\n\u001b[0;32m      5\u001b[0m                             enable_categorical \u001b[38;5;241m=\u001b[39m \u001b[38;5;28;01mTrue\u001b[39;00m,\n\u001b[0;32m      6\u001b[0m                             early_stopping_rounds \u001b[38;5;241m=\u001b[39m \u001b[38;5;241m200\u001b[39m,\n\u001b[0;32m      7\u001b[0m                             learning_rate \u001b[38;5;241m=\u001b[39m \u001b[38;5;241m0.001\u001b[39m,\n\u001b[0;32m      8\u001b[0m                             random_state \u001b[38;5;241m=\u001b[39m \u001b[38;5;241m244\u001b[39m)\n\u001b[1;32m---> 10\u001b[0m df_test, y_pred \u001b[38;5;241m=\u001b[39m category_train_loop(categories \u001b[38;5;241m=\u001b[39m categories,\n\u001b[0;32m     11\u001b[0m                                       df \u001b[38;5;241m=\u001b[39m df_agg,\n\u001b[0;32m     12\u001b[0m                                       xgb_model \u001b[38;5;241m=\u001b[39m xgb_reg,\n\u001b[0;32m     13\u001b[0m                                       scaler \u001b[38;5;241m=\u001b[39m scaler,\n\u001b[0;32m     14\u001b[0m                                       include_item \u001b[38;5;241m=\u001b[39m \u001b[38;5;28;01mFalse\u001b[39;00m)\n",
      "Cell \u001b[1;32mIn[94], line 40\u001b[0m, in \u001b[0;36mcategory_train_loop\u001b[1;34m(df, categories, xgb_model, scaler, include_item)\u001b[0m\n\u001b[0;32m     36\u001b[0m df_category \u001b[38;5;241m=\u001b[39m create_date_feature(df \u001b[38;5;241m=\u001b[39m df_category,\n\u001b[0;32m     37\u001b[0m                                   date_column \u001b[38;5;241m=\u001b[39m \u001b[38;5;124m'\u001b[39m\u001b[38;5;124mDate\u001b[39m\u001b[38;5;124m'\u001b[39m)\n\u001b[0;32m     39\u001b[0m \u001b[38;5;66;03m# Split train and test\u001b[39;00m\n\u001b[1;32m---> 40\u001b[0m train_split \u001b[38;5;241m=\u001b[39m create_split_date(df \u001b[38;5;241m=\u001b[39m df,\n\u001b[0;32m     41\u001b[0m                                 date_column \u001b[38;5;241m=\u001b[39m \u001b[38;5;124m'\u001b[39m\u001b[38;5;124mDate\u001b[39m\u001b[38;5;124m'\u001b[39m,\n\u001b[0;32m     42\u001b[0m                                 train_size \u001b[38;5;241m=\u001b[39m \u001b[38;5;241m0.8\u001b[39m)\n\u001b[0;32m     43\u001b[0m train, test \u001b[38;5;241m=\u001b[39m split_train_test_date(df \u001b[38;5;241m=\u001b[39m df_category,\n\u001b[0;32m     44\u001b[0m                                     split_date \u001b[38;5;241m=\u001b[39m train_split)\n\u001b[0;32m     46\u001b[0m \u001b[38;5;66;03m# Create X and y to train and test\u001b[39;00m\n",
      "Cell \u001b[1;32mIn[93], line 8\u001b[0m, in \u001b[0;36mcreate_split_date\u001b[1;34m(df, date_column, train_size)\u001b[0m\n\u001b[0;32m      6\u001b[0m     max_date, min_date \u001b[38;5;241m=\u001b[39m dt\u001b[38;5;241m.\u001b[39mstrptime(df[date_column]\u001b[38;5;241m.\u001b[39mmax(), \u001b[38;5;124m'\u001b[39m\u001b[38;5;124m%\u001b[39m\u001b[38;5;124mY-\u001b[39m\u001b[38;5;124m%\u001b[39m\u001b[38;5;124mm-\u001b[39m\u001b[38;5;132;01m%d\u001b[39;00m\u001b[38;5;124m'\u001b[39m), dt\u001b[38;5;241m.\u001b[39mstrptime(df[date_column]\u001b[38;5;241m.\u001b[39mmin(), \u001b[38;5;124m'\u001b[39m\u001b[38;5;124m%\u001b[39m\u001b[38;5;124mY-\u001b[39m\u001b[38;5;124m%\u001b[39m\u001b[38;5;124mm-\u001b[39m\u001b[38;5;132;01m%d\u001b[39;00m\u001b[38;5;124m'\u001b[39m)\n\u001b[0;32m      7\u001b[0m \u001b[38;5;28;01mexcept\u001b[39;00m:\n\u001b[1;32m----> 8\u001b[0m     max_date, min_date \u001b[38;5;241m=\u001b[39m df[date_column]\u001b[38;5;241m.\u001b[39mmax(), df[date_column]\u001b[38;5;241m.\u001b[39mmin()\n\u001b[0;32m     10\u001b[0m \u001b[38;5;66;03m# Calculate 80% of the date range for splitting\u001b[39;00m\n\u001b[0;32m     11\u001b[0m date_difference \u001b[38;5;241m=\u001b[39m max_date \u001b[38;5;241m-\u001b[39m min_date\n",
      "File \u001b[1;32mc:\\Users\\G2\\anaconda3\\Lib\\site-packages\\pandas\\core\\generic.py:11646\u001b[0m, in \u001b[0;36mNDFrame._add_numeric_operations.<locals>.max\u001b[1;34m(self, axis, skipna, numeric_only, **kwargs)\u001b[0m\n\u001b[0;32m  11627\u001b[0m \u001b[38;5;129m@doc\u001b[39m(\n\u001b[0;32m  11628\u001b[0m     _num_doc,\n\u001b[0;32m  11629\u001b[0m     desc\u001b[38;5;241m=\u001b[39m\u001b[38;5;124m\"\u001b[39m\u001b[38;5;124mReturn the maximum of the values over the requested axis.\u001b[39m\u001b[38;5;130;01m\\n\u001b[39;00m\u001b[38;5;130;01m\\n\u001b[39;00m\u001b[38;5;124m\"\u001b[39m\n\u001b[1;32m   (...)\u001b[0m\n\u001b[0;32m  11644\u001b[0m     \u001b[38;5;241m*\u001b[39m\u001b[38;5;241m*\u001b[39mkwargs,\n\u001b[0;32m  11645\u001b[0m ):\n\u001b[1;32m> 11646\u001b[0m     \u001b[38;5;28;01mreturn\u001b[39;00m NDFrame\u001b[38;5;241m.\u001b[39mmax(\u001b[38;5;28mself\u001b[39m, axis, skipna, numeric_only, \u001b[38;5;241m*\u001b[39m\u001b[38;5;241m*\u001b[39mkwargs)\n",
      "File \u001b[1;32mc:\\Users\\G2\\anaconda3\\Lib\\site-packages\\pandas\\core\\generic.py:11185\u001b[0m, in \u001b[0;36mNDFrame.max\u001b[1;34m(self, axis, skipna, numeric_only, **kwargs)\u001b[0m\n\u001b[0;32m  11178\u001b[0m \u001b[38;5;28;01mdef\u001b[39;00m \u001b[38;5;21mmax\u001b[39m(\n\u001b[0;32m  11179\u001b[0m     \u001b[38;5;28mself\u001b[39m,\n\u001b[0;32m  11180\u001b[0m     axis: Axis \u001b[38;5;241m|\u001b[39m \u001b[38;5;28;01mNone\u001b[39;00m \u001b[38;5;241m=\u001b[39m \u001b[38;5;241m0\u001b[39m,\n\u001b[1;32m   (...)\u001b[0m\n\u001b[0;32m  11183\u001b[0m     \u001b[38;5;241m*\u001b[39m\u001b[38;5;241m*\u001b[39mkwargs,\n\u001b[0;32m  11184\u001b[0m ):\n\u001b[1;32m> 11185\u001b[0m     \u001b[38;5;28;01mreturn\u001b[39;00m \u001b[38;5;28mself\u001b[39m\u001b[38;5;241m.\u001b[39m_stat_function(\n\u001b[0;32m  11186\u001b[0m         \u001b[38;5;124m\"\u001b[39m\u001b[38;5;124mmax\u001b[39m\u001b[38;5;124m\"\u001b[39m,\n\u001b[0;32m  11187\u001b[0m         nanops\u001b[38;5;241m.\u001b[39mnanmax,\n\u001b[0;32m  11188\u001b[0m         axis,\n\u001b[0;32m  11189\u001b[0m         skipna,\n\u001b[0;32m  11190\u001b[0m         numeric_only,\n\u001b[0;32m  11191\u001b[0m         \u001b[38;5;241m*\u001b[39m\u001b[38;5;241m*\u001b[39mkwargs,\n\u001b[0;32m  11192\u001b[0m     )\n",
      "File \u001b[1;32mc:\\Users\\G2\\anaconda3\\Lib\\site-packages\\pandas\\core\\generic.py:11158\u001b[0m, in \u001b[0;36mNDFrame._stat_function\u001b[1;34m(self, name, func, axis, skipna, numeric_only, **kwargs)\u001b[0m\n\u001b[0;32m  11154\u001b[0m     nv\u001b[38;5;241m.\u001b[39mvalidate_stat_func((), kwargs, fname\u001b[38;5;241m=\u001b[39mname)\n\u001b[0;32m  11156\u001b[0m validate_bool_kwarg(skipna, \u001b[38;5;124m\"\u001b[39m\u001b[38;5;124mskipna\u001b[39m\u001b[38;5;124m\"\u001b[39m, none_allowed\u001b[38;5;241m=\u001b[39m\u001b[38;5;28;01mFalse\u001b[39;00m)\n\u001b[1;32m> 11158\u001b[0m \u001b[38;5;28;01mreturn\u001b[39;00m \u001b[38;5;28mself\u001b[39m\u001b[38;5;241m.\u001b[39m_reduce(\n\u001b[0;32m  11159\u001b[0m     func, name\u001b[38;5;241m=\u001b[39mname, axis\u001b[38;5;241m=\u001b[39maxis, skipna\u001b[38;5;241m=\u001b[39mskipna, numeric_only\u001b[38;5;241m=\u001b[39mnumeric_only\n\u001b[0;32m  11160\u001b[0m )\n",
      "File \u001b[1;32mc:\\Users\\G2\\anaconda3\\Lib\\site-packages\\pandas\\core\\series.py:4656\u001b[0m, in \u001b[0;36mSeries._reduce\u001b[1;34m(self, op, name, axis, skipna, numeric_only, filter_type, **kwds)\u001b[0m\n\u001b[0;32m   4652\u001b[0m     \u001b[38;5;28mself\u001b[39m\u001b[38;5;241m.\u001b[39m_get_axis_number(axis)\n\u001b[0;32m   4654\u001b[0m \u001b[38;5;28;01mif\u001b[39;00m \u001b[38;5;28misinstance\u001b[39m(delegate, ExtensionArray):\n\u001b[0;32m   4655\u001b[0m     \u001b[38;5;66;03m# dispatch to ExtensionArray interface\u001b[39;00m\n\u001b[1;32m-> 4656\u001b[0m     \u001b[38;5;28;01mreturn\u001b[39;00m delegate\u001b[38;5;241m.\u001b[39m_reduce(name, skipna\u001b[38;5;241m=\u001b[39mskipna, \u001b[38;5;241m*\u001b[39m\u001b[38;5;241m*\u001b[39mkwds)\n\u001b[0;32m   4658\u001b[0m \u001b[38;5;28;01melse\u001b[39;00m:\n\u001b[0;32m   4659\u001b[0m     \u001b[38;5;66;03m# dispatch to numpy arrays\u001b[39;00m\n\u001b[0;32m   4660\u001b[0m     \u001b[38;5;28;01mif\u001b[39;00m numeric_only \u001b[38;5;129;01mand\u001b[39;00m \u001b[38;5;129;01mnot\u001b[39;00m is_numeric_dtype(\u001b[38;5;28mself\u001b[39m\u001b[38;5;241m.\u001b[39mdtype):\n",
      "File \u001b[1;32mc:\\Users\\G2\\anaconda3\\Lib\\site-packages\\pandas\\core\\arrays\\base.py:1444\u001b[0m, in \u001b[0;36mExtensionArray._reduce\u001b[1;34m(self, name, skipna, **kwargs)\u001b[0m\n\u001b[0;32m   1439\u001b[0m \u001b[38;5;28;01mif\u001b[39;00m meth \u001b[38;5;129;01mis\u001b[39;00m \u001b[38;5;28;01mNone\u001b[39;00m:\n\u001b[0;32m   1440\u001b[0m     \u001b[38;5;28;01mraise\u001b[39;00m \u001b[38;5;167;01mTypeError\u001b[39;00m(\n\u001b[0;32m   1441\u001b[0m         \u001b[38;5;124mf\u001b[39m\u001b[38;5;124m\"\u001b[39m\u001b[38;5;124m'\u001b[39m\u001b[38;5;132;01m{\u001b[39;00m\u001b[38;5;28mtype\u001b[39m(\u001b[38;5;28mself\u001b[39m)\u001b[38;5;241m.\u001b[39m\u001b[38;5;18m__name__\u001b[39m\u001b[38;5;132;01m}\u001b[39;00m\u001b[38;5;124m'\u001b[39m\u001b[38;5;124m with dtype \u001b[39m\u001b[38;5;132;01m{\u001b[39;00m\u001b[38;5;28mself\u001b[39m\u001b[38;5;241m.\u001b[39mdtype\u001b[38;5;132;01m}\u001b[39;00m\u001b[38;5;124m \u001b[39m\u001b[38;5;124m\"\u001b[39m\n\u001b[0;32m   1442\u001b[0m         \u001b[38;5;124mf\u001b[39m\u001b[38;5;124m\"\u001b[39m\u001b[38;5;124mdoes not support reduction \u001b[39m\u001b[38;5;124m'\u001b[39m\u001b[38;5;132;01m{\u001b[39;00mname\u001b[38;5;132;01m}\u001b[39;00m\u001b[38;5;124m'\u001b[39m\u001b[38;5;124m\"\u001b[39m\n\u001b[0;32m   1443\u001b[0m     )\n\u001b[1;32m-> 1444\u001b[0m \u001b[38;5;28;01mreturn\u001b[39;00m meth(skipna\u001b[38;5;241m=\u001b[39mskipna, \u001b[38;5;241m*\u001b[39m\u001b[38;5;241m*\u001b[39mkwargs)\n",
      "File \u001b[1;32mc:\\Users\\G2\\anaconda3\\Lib\\site-packages\\pandas\\core\\arrays\\categorical.py:2037\u001b[0m, in \u001b[0;36mCategorical.max\u001b[1;34m(self, skipna, **kwargs)\u001b[0m\n\u001b[0;32m   2035\u001b[0m nv\u001b[38;5;241m.\u001b[39mvalidate_minmax_axis(kwargs\u001b[38;5;241m.\u001b[39mget(\u001b[38;5;124m\"\u001b[39m\u001b[38;5;124maxis\u001b[39m\u001b[38;5;124m\"\u001b[39m, \u001b[38;5;241m0\u001b[39m))\n\u001b[0;32m   2036\u001b[0m nv\u001b[38;5;241m.\u001b[39mvalidate_max((), kwargs)\n\u001b[1;32m-> 2037\u001b[0m \u001b[38;5;28mself\u001b[39m\u001b[38;5;241m.\u001b[39mcheck_for_ordered(\u001b[38;5;124m\"\u001b[39m\u001b[38;5;124mmax\u001b[39m\u001b[38;5;124m\"\u001b[39m)\n\u001b[0;32m   2039\u001b[0m \u001b[38;5;28;01mif\u001b[39;00m \u001b[38;5;129;01mnot\u001b[39;00m \u001b[38;5;28mlen\u001b[39m(\u001b[38;5;28mself\u001b[39m\u001b[38;5;241m.\u001b[39m_codes):\n\u001b[0;32m   2040\u001b[0m     \u001b[38;5;28;01mreturn\u001b[39;00m \u001b[38;5;28mself\u001b[39m\u001b[38;5;241m.\u001b[39mdtype\u001b[38;5;241m.\u001b[39mna_value\n",
      "File \u001b[1;32mc:\\Users\\G2\\anaconda3\\Lib\\site-packages\\pandas\\core\\arrays\\categorical.py:1553\u001b[0m, in \u001b[0;36mCategorical.check_for_ordered\u001b[1;34m(self, op)\u001b[0m\n\u001b[0;32m   1551\u001b[0m \u001b[38;5;250m\u001b[39m\u001b[38;5;124;03m\"\"\"assert that we are ordered\"\"\"\u001b[39;00m\n\u001b[0;32m   1552\u001b[0m \u001b[38;5;28;01mif\u001b[39;00m \u001b[38;5;129;01mnot\u001b[39;00m \u001b[38;5;28mself\u001b[39m\u001b[38;5;241m.\u001b[39mordered:\n\u001b[1;32m-> 1553\u001b[0m     \u001b[38;5;28;01mraise\u001b[39;00m \u001b[38;5;167;01mTypeError\u001b[39;00m(\n\u001b[0;32m   1554\u001b[0m         \u001b[38;5;124mf\u001b[39m\u001b[38;5;124m\"\u001b[39m\u001b[38;5;124mCategorical is not ordered for operation \u001b[39m\u001b[38;5;132;01m{\u001b[39;00mop\u001b[38;5;132;01m}\u001b[39;00m\u001b[38;5;130;01m\\n\u001b[39;00m\u001b[38;5;124m\"\u001b[39m\n\u001b[0;32m   1555\u001b[0m         \u001b[38;5;124m\"\u001b[39m\u001b[38;5;124myou can use .as_ordered() to change the \u001b[39m\u001b[38;5;124m\"\u001b[39m\n\u001b[0;32m   1556\u001b[0m         \u001b[38;5;124m\"\u001b[39m\u001b[38;5;124mCategorical to an ordered one\u001b[39m\u001b[38;5;130;01m\\n\u001b[39;00m\u001b[38;5;124m\"\u001b[39m\n\u001b[0;32m   1557\u001b[0m     )\n",
      "\u001b[1;31mTypeError\u001b[0m: Categorical is not ordered for operation max\nyou can use .as_ordered() to change the Categorical to an ordered one\n"
     ]
    }
   ],
   "source": [
    "categories = df_agg['Category Code'].unique()\n",
    "scaler = StandardScaler()\n",
    "xgb_reg = xgb.XGBRegressor(n_estimators = 5000,\n",
    "                            eval_metrics = mean_squared_error,\n",
    "                            enable_categorical = True,\n",
    "                            early_stopping_rounds = 200,\n",
    "                            learning_rate = 0.001,\n",
    "                            random_state = 244)\n",
    "\n",
    "df_test, y_pred = category_train_loop(categories = categories,\n",
    "                                      df = df_agg,\n",
    "                                      xgb_model = xgb_reg,\n",
    "                                      scaler = scaler,\n",
    "                                      include_item = False)"
   ]
  },
  {
   "cell_type": "markdown",
   "metadata": {},
   "source": [
    "# 7. Results"
   ]
  },
  {
   "cell_type": "code",
   "execution_count": 41,
   "metadata": {},
   "outputs": [
    {
     "name": "stdout",
     "output_type": "stream",
     "text": [
      "RMSE: 367.48\n"
     ]
    },
    {
     "data": {
      "image/png": "[encoded data removed]",
      "text/plain": [
       "<Figure size 1000x500 with 1 Axes>"
      ]
     },
     "metadata": {},
     "output_type": "display_data"
    }
   ],
   "source": [
    "plot_prediction(df_test = df_test,\n",
    "                y_pred = y_pred)"
   ]
  },
  {
   "cell_type": "code",
   "execution_count": 60,
   "metadata": {},
   "outputs": [
    {
     "data": {
      "text/html": [
       "<div>\n",
       "<style scoped>\n",
       "    .dataframe tbody tr th:only-of-type {\n",
       "        vertical-align: middle;\n",
       "    }\n",
       "\n",
       "    .dataframe tbody tr th {\n",
       "        vertical-align: top;\n",
       "    }\n",
       "\n",
       "    .dataframe thead th {\n",
       "        text-align: right;\n",
       "    }\n",
       "</style>\n",
       "<table border=\"1\" class=\"dataframe\">\n",
       "  <thead>\n",
       "    <tr style=\"text-align: right;\">\n",
       "      <th></th>\n",
       "      <th>index</th>\n",
       "      <th>Category Code</th>\n",
       "      <th>Sales</th>\n",
       "      <th>Year</th>\n",
       "      <th>Month</th>\n",
       "      <th>Day</th>\n",
       "      <th>DayOfWeek</th>\n",
       "      <th>WeekNumber</th>\n",
       "      <th>Quarter</th>\n",
       "      <th>prediction</th>\n",
       "      <th>Abs Error</th>\n",
       "    </tr>\n",
       "  </thead>\n",
       "  <tbody>\n",
       "    <tr>\n",
       "      <th>5452</th>\n",
       "      <td>5548</td>\n",
       "      <td>1011010504</td>\n",
       "      <td>6036.382812</td>\n",
       "      <td>2023</td>\n",
       "      <td>1</td>\n",
       "      <td>20</td>\n",
       "      <td>4</td>\n",
       "      <td>3</td>\n",
       "      <td>1</td>\n",
       "      <td>443.517487</td>\n",
       "      <td>5592.865326</td>\n",
       "    </tr>\n",
       "    <tr>\n",
       "      <th>5446</th>\n",
       "      <td>5542</td>\n",
       "      <td>1011010504</td>\n",
       "      <td>4398.406250</td>\n",
       "      <td>2023</td>\n",
       "      <td>1</td>\n",
       "      <td>19</td>\n",
       "      <td>3</td>\n",
       "      <td>3</td>\n",
       "      <td>1</td>\n",
       "      <td>443.517487</td>\n",
       "      <td>3954.888763</td>\n",
       "    </tr>\n",
       "    <tr>\n",
       "      <th>6737</th>\n",
       "      <td>5549</td>\n",
       "      <td>1011010801</td>\n",
       "      <td>3731.937500</td>\n",
       "      <td>2023</td>\n",
       "      <td>1</td>\n",
       "      <td>20</td>\n",
       "      <td>4</td>\n",
       "      <td>3</td>\n",
       "      <td>1</td>\n",
       "      <td>488.810608</td>\n",
       "      <td>3243.126892</td>\n",
       "    </tr>\n",
       "    <tr>\n",
       "      <th>318</th>\n",
       "      <td>5544</td>\n",
       "      <td>1011010101</td>\n",
       "      <td>3911.250000</td>\n",
       "      <td>2023</td>\n",
       "      <td>1</td>\n",
       "      <td>20</td>\n",
       "      <td>4</td>\n",
       "      <td>3</td>\n",
       "      <td>1</td>\n",
       "      <td>672.624939</td>\n",
       "      <td>3238.625061</td>\n",
       "    </tr>\n",
       "    <tr>\n",
       "      <th>6731</th>\n",
       "      <td>5543</td>\n",
       "      <td>1011010801</td>\n",
       "      <td>3173.509766</td>\n",
       "      <td>2023</td>\n",
       "      <td>1</td>\n",
       "      <td>19</td>\n",
       "      <td>3</td>\n",
       "      <td>3</td>\n",
       "      <td>1</td>\n",
       "      <td>443.824799</td>\n",
       "      <td>2729.684967</td>\n",
       "    </tr>\n",
       "  </tbody>\n",
       "</table>\n",
       "</div>"
      ],
      "text/plain": [
       "      index Category Code        Sales  Year  Month  Day  DayOfWeek  \\\n",
       "5452   5548    1011010504  6036.382812  2023      1   20          4   \n",
       "5446   5542    1011010504  4398.406250  2023      1   19          3   \n",
       "6737   5549    1011010801  3731.937500  2023      1   20          4   \n",
       "318    5544    1011010101  3911.250000  2023      1   20          4   \n",
       "6731   5543    1011010801  3173.509766  2023      1   19          3   \n",
       "\n",
       "      WeekNumber  Quarter  prediction    Abs Error  \n",
       "5452           3        1  443.517487  5592.865326  \n",
       "5446           3        1  443.517487  3954.888763  \n",
       "6737           3        1  488.810608  3243.126892  \n",
       "318            3        1  672.624939  3238.625061  \n",
       "6731           3        1  443.824799  2729.684967  "
      ]
     },
     "execution_count": 60,
     "metadata": {},
     "output_type": "execute_result"
    }
   ],
   "source": [
    "df_predict = df_test.reset_index().merge(pd.DataFrame(data = y_pred, columns = ['prediction']),\n",
    "                                             how = 'left',\n",
    "                                             left_index = True,\n",
    "                                             right_index = True)\n",
    "df_predict['Abs Error'] = abs(df_predict['Sales'] - df_predict['prediction'])\n",
    "df_predict.sort_values(by = 'Abs Error', ascending = False).head()"
   ]
  },
  {
   "cell_type": "code",
   "execution_count": null,
   "metadata": {},
   "outputs": [],
   "source": []
  }
 ],
 "metadata": {
  "kernelspec": {
   "display_name": "Python 3 (ipykernel)",
   "language": "python",
   "name": "python3"
  },
  "language_info": {
   "codemirror_mode": {
    "name": "ipython",
    "version": 3
   },
   "file_extension": ".py",
   "mimetype": "text/x-python",
   "name": "python",
   "nbconvert_exporter": "python",
   "pygments_lexer": "ipython3",
   "version": "3.11.5"
  }
 },
 "nbformat": 4,
 "nbformat_minor": 2
}
