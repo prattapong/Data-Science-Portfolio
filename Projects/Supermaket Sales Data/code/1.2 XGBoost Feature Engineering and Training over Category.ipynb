{
 "cells": [
  {
   "cell_type": "markdown",
   "metadata": {},
   "source": [
    "# 1. Import libraries"
   ]
  },
  {
   "cell_type": "code",
   "execution_count": 1,
   "metadata": {},
   "outputs": [],
   "source": [
    "import numpy as np\n",
    "import pandas as pd\n",
    "import requests\n",
    "from io import StringIO\n",
    "import matplotlib.pyplot as plt\n",
    "import seaborn as sns\n",
    "from datetime import datetime as dt\n",
    "\n",
    "import xgboost as xgb\n",
    "from sklearn.model_selection import TimeSeriesSplit\n",
    "from sklearn.metrics import mean_squared_error"
   ]
  },
  {
   "cell_type": "markdown",
   "metadata": {},
   "source": [
    "# 2. Load data"
   ]
  },
  {
   "cell_type": "code",
   "execution_count": 2,
   "metadata": {},
   "outputs": [],
   "source": [
    "# Define url path to CSV\n",
    "annex1 = 'https://raw.githubusercontent.com/prattapong/Data-Science-Portfolio/main/Projects/Supermaket%20Sales%20Data/data/annex1.csv'\n",
    "annex2 = 'https://raw.githubusercontent.com/prattapong/Data-Science-Portfolio/main/Projects/Supermaket%20Sales%20Data/data/annex2.csv'\n",
    "annex3 = 'https://raw.githubusercontent.com/prattapong/Data-Science-Portfolio/main/Projects/Supermaket%20Sales%20Data/data/annex3.csv'\n",
    "annex4 = 'https://raw.githubusercontent.com/prattapong/Data-Science-Portfolio/main/Projects/Supermaket%20Sales%20Data/data/annex4.csv'"
   ]
  },
  {
   "cell_type": "code",
   "execution_count": 3,
   "metadata": {},
   "outputs": [],
   "source": [
    "def get_df_from_url(url):\n",
    "    # Create request response\n",
    "    response = requests.get(url)\n",
    "\n",
    "    # Check if the request was successful (status code 200)\n",
    "    if response.status_code == 200:\n",
    "        # Create a file-like object from the raw content\n",
    "        csv_content = StringIO(response.text)\n",
    "\n",
    "        # Read the CSV file into a DataFrame\n",
    "        df = pd.read_csv(csv_content)\n",
    "\n",
    "        # Return DataFrame\n",
    "        return df\n",
    "    else:\n",
    "        print(f\"Failed to fetch data. Status code: {response.status_code}\")\n",
    "\n",
    "df_item = get_df_from_url(annex1)\n",
    "df_transaction = get_df_from_url(annex2)\n",
    "df_wholesale = get_df_from_url(annex3)\n",
    "df_loss = get_df_from_url(annex4)"
   ]
  },
  {
   "cell_type": "markdown",
   "metadata": {},
   "source": [
    "# 3. Merge and aggregate data"
   ]
  },
  {
   "cell_type": "code",
   "execution_count": 4,
   "metadata": {},
   "outputs": [],
   "source": [
    "def merge_all_df(df_transaction: pd.DataFrame = df_transaction,\n",
    "                 df_item: pd.DataFrame = df_item,\n",
    "                 df_wholesale: pd.DataFrame = df_wholesale,\n",
    "                 df_loss: pd.DataFrame = df_loss):\n",
    "\n",
    "    df_merge = df_transaction.merge(df_item,\n",
    "                                    how = 'left',\n",
    "                                    on = 'Item Code')\n",
    "    df_merge = df_merge.merge(df_wholesale,\n",
    "                            how = 'left',\n",
    "                            on = ['Date', 'Item Code'])\n",
    "    df_merge = df_merge.merge(df_loss.drop('Item Name', axis = 1),\n",
    "                            how = 'left',\n",
    "                            on = 'Item Code')\n",
    "    \n",
    "    return df_merge\n",
    "\n",
    "df_merge = merge_all_df()"
   ]
  },
  {
   "cell_type": "code",
   "execution_count": 5,
   "metadata": {},
   "outputs": [
    {
     "data": {
      "text/html": [
       "<div>\n",
       "<style scoped>\n",
       "    .dataframe tbody tr th:only-of-type {\n",
       "        vertical-align: middle;\n",
       "    }\n",
       "\n",
       "    .dataframe tbody tr th {\n",
       "        vertical-align: top;\n",
       "    }\n",
       "\n",
       "    .dataframe thead th {\n",
       "        text-align: right;\n",
       "    }\n",
       "</style>\n",
       "<table border=\"1\" class=\"dataframe\">\n",
       "  <thead>\n",
       "    <tr style=\"text-align: right;\">\n",
       "      <th></th>\n",
       "      <th>Date</th>\n",
       "      <th>Category Code</th>\n",
       "      <th>Item Code</th>\n",
       "      <th>Sales</th>\n",
       "    </tr>\n",
       "  </thead>\n",
       "  <tbody>\n",
       "    <tr>\n",
       "      <th>0</th>\n",
       "      <td>2020-07-01</td>\n",
       "      <td>1011010101</td>\n",
       "      <td>102900005115762</td>\n",
       "      <td>41.046</td>\n",
       "    </tr>\n",
       "    <tr>\n",
       "      <th>1</th>\n",
       "      <td>2020-07-01</td>\n",
       "      <td>1011010101</td>\n",
       "      <td>102900005115779</td>\n",
       "      <td>335.728</td>\n",
       "    </tr>\n",
       "    <tr>\n",
       "      <th>2</th>\n",
       "      <td>2020-07-01</td>\n",
       "      <td>1011010101</td>\n",
       "      <td>102900005115786</td>\n",
       "      <td>68.112</td>\n",
       "    </tr>\n",
       "    <tr>\n",
       "      <th>3</th>\n",
       "      <td>2020-07-01</td>\n",
       "      <td>1011010101</td>\n",
       "      <td>102900005115793</td>\n",
       "      <td>68.608</td>\n",
       "    </tr>\n",
       "    <tr>\n",
       "      <th>4</th>\n",
       "      <td>2020-07-01</td>\n",
       "      <td>1011010101</td>\n",
       "      <td>102900005115823</td>\n",
       "      <td>114.760</td>\n",
       "    </tr>\n",
       "  </tbody>\n",
       "</table>\n",
       "</div>"
      ],
      "text/plain": [
       "         Date  Category Code        Item Code    Sales\n",
       "0  2020-07-01     1011010101  102900005115762   41.046\n",
       "1  2020-07-01     1011010101  102900005115779  335.728\n",
       "2  2020-07-01     1011010101  102900005115786   68.112\n",
       "3  2020-07-01     1011010101  102900005115793   68.608\n",
       "4  2020-07-01     1011010101  102900005115823  114.760"
      ]
     },
     "execution_count": 5,
     "metadata": {},
     "output_type": "execute_result"
    }
   ],
   "source": [
    "# Create Sales column\n",
    "df_merge['Sales'] = df_merge['Unit Selling Price (RMB/kg)'] * df_merge['Quantity Sold (kilo)']\n",
    "\n",
    "# Aggregate as new table\n",
    "df_agg = df_merge.groupby(['Date', 'Category Code', 'Item Code'], as_index = False)['Sales'].sum()\n",
    "df_agg.head()"
   ]
  },
  {
   "cell_type": "markdown",
   "metadata": {},
   "source": [
    "# 4. Feature Engineering"
   ]
  },
  {
   "cell_type": "code",
   "execution_count": 6,
   "metadata": {},
   "outputs": [],
   "source": [
    "def create_date_feature(df: pd.DataFrame,\n",
    "                       date_column: str):\n",
    "    # Convert the 'Date' column to datetime type\n",
    "    df['Date'] = pd.to_datetime(df['Date'])\n",
    "\n",
    "    # Extract date components\n",
    "    df['Year'] = df['Date'].dt.year\n",
    "    df['Month'] = df['Date'].dt.month\n",
    "    df['Day'] = df['Date'].dt.day\n",
    "    df['DayOfWeek'] = df['Date'].dt.dayofweek  # Monday is 0 and Sunday is 6\n",
    "    df['WeekNumber'] = df['Date'].dt.isocalendar().week\n",
    "    df['Quarter'] = df['Date'].dt.quarter\n",
    "    \n",
    "    return df\n",
    "\n",
    "df_agg = create_date_feature(df = df_agg,\n",
    "                             date_column = 'Date')"
   ]
  },
  {
   "cell_type": "markdown",
   "metadata": {},
   "source": [
    "# 5. Data Preprocessing"
   ]
  },
  {
   "cell_type": "markdown",
   "metadata": {},
   "source": [
    "## 5.1 Change dtype"
   ]
  },
  {
   "cell_type": "code",
   "execution_count": 13,
   "metadata": {},
   "outputs": [],
   "source": [
    "def reduce_memory_usage(df: pd.DataFrame,\n",
    "                        categorical_columns: list = None):\n",
    "    start_memory = df.memory_usage().sum() / 1024**2\n",
    "\n",
    "    # Handle categorical columns\n",
    "    if categorical_columns is not None:\n",
    "        for col in categorical_columns:\n",
    "            df[col] = df[col].astype('category')\n",
    "    else:\n",
    "        pass\n",
    "    \n",
    "    for col in df.columns:\n",
    "        #  handle numerical features\n",
    "        if df[col].dtype.name != 'object' and df[col].dtype.name != 'category':\n",
    "            num_min = df[col].min()\n",
    "            num_max = df[col].max()\n",
    "        \n",
    "            # minimize int dtype bytes\n",
    "            if 'int' in df[col].dtype.name:\n",
    "                if num_min > np.iinfo(np.int8).min and num_max < np.iinfo(np.int8).max:\n",
    "                    df[col] = df[col].astype('int8')\n",
    "                elif num_min > np.iinfo(np.int16).min and num_max < np.iinfo(np.int16).max:\n",
    "                    df[col] = df[col].astype('int16')\n",
    "                elif num_min > np.iinfo(np.int32).min and num_max < np.iinfo(np.int32).max:\n",
    "                    df[col] = df[col].astype('int32')\n",
    "                else:\n",
    "                    df[col] = df[col].astype('int64')\n",
    "                    \n",
    "            # minimize float dtype bytes\n",
    "            elif 'float' in df[col].dtype.name:\n",
    "                if num_min > np.finfo(np.float16).min and num_max < np.finfo(np.float16).max:\n",
    "                    df[col] = df[col].astype('float16')\n",
    "                elif num_min > np.finfo(np.float32).min and num_max < np.finfo(np.float32).max:\n",
    "                    df[col] = df[col].astype('float32')\n",
    "                else:\n",
    "                    df[col] = df[col].astype('float64')\n",
    "        \n",
    "        # handle object columns\n",
    "        else:\n",
    "            df[col] = df[col].astype('category')\n",
    "\n",
    "    end_memory = df.memory_usage().sum() / 1024**2\n",
    "    print('Start Memory: {:.2f} MB\\nEnd Memory: {:.2f} MB'.format(start_memory, end_memory))\n",
    "    return df"
   ]
  },
  {
   "cell_type": "code",
   "execution_count": 14,
   "metadata": {},
   "outputs": [
    {
     "name": "stdout",
     "output_type": "stream",
     "text": [
      "Start Memory: 1.08 MB\n",
      "End Memory: 1.08 MB\n"
     ]
    },
    {
     "data": {
      "text/plain": [
       "Date             datetime64[ns]\n",
       "Category Code          category\n",
       "Item Code              category\n",
       "Sales                   float16\n",
       "Year                      int16\n",
       "Month                      int8\n",
       "Day                        int8\n",
       "DayOfWeek                  int8\n",
       "WeekNumber               UInt32\n",
       "Quarter                    int8\n",
       "dtype: object"
      ]
     },
     "execution_count": 14,
     "metadata": {},
     "output_type": "execute_result"
    }
   ],
   "source": [
    "categorical_columns = ['Category Code', 'Item Code']\n",
    "df_agg = reduce_memory_usage(df = df_agg,\n",
    "                             categorical_columns = categorical_columns)\n",
    "df_agg.dtypes"
   ]
  },
  {
   "cell_type": "markdown",
   "metadata": {},
   "source": [
    "## 5.2 Split train and test data"
   ]
  },
  {
   "cell_type": "code",
   "execution_count": 15,
   "metadata": {},
   "outputs": [],
   "source": [
    "def create_split_date(df: pd.DataFrame,\n",
    "                      date_column: str,\n",
    "                      train_size: float):\n",
    "    # Get max and min date of the dataset\n",
    "    try:\n",
    "        max_date, min_date = dt.strptime(df['Date'].max(), '%Y-%m-%d'), dt.strptime(df['Date'].min(), '%Y-%m-%d')\n",
    "    except:\n",
    "        max_date, min_date = df['Date'].max(), df['Date'].min()\n",
    "\n",
    "    # Calculate 80% of the date range for splitting\n",
    "    date_difference = max_date - min_date\n",
    "    train_split = (min_date + train_size * date_difference).date()\n",
    "    \n",
    "    return train_split\n",
    "\n",
    "def split_train_test_date(df: pd.DataFrame, split_date):\n",
    "    \"\"\"\n",
    "    Split train and test data based on date\n",
    "    \"\"\"\n",
    "\n",
    "    \"\"\" Args:\n",
    "    df: DataFrame to split\n",
    "    split_date: Date to split between train and test data\n",
    "    \"\"\"\n",
    "\n",
    "    \"\"\" Return:\n",
    "    train, test: pd.DataFrame\n",
    "    \"\"\"\n",
    "    \n",
    "    # Split train and test\n",
    "    train = df[df['Date'].dt.date <= split_date]\n",
    "    train = train.drop('Date', axis = 1)\n",
    "    test = df[df['Date'].dt.date > split_date]\n",
    "    test = test.drop('Date', axis = 1)\n",
    "\n",
    "    print(f'Train size: {train.shape[0]} | {(100 * train.shape[0]/df.shape[0]):.2f}%')\n",
    "    print(f'Test size: {test.shape[0]} | {(100 * test.shape[0]/df.shape[0]):.2f}%')\n",
    "\n",
    "    return train, test\n",
    "\n",
    "# train_split = create_split_date(df = df_merge,\n",
    "#                                 date_column = 'Date',\n",
    "#                                 train_size = 0.8)\n",
    "\n",
    "# train, test = split_train_test_date(df = df_agg,\n",
    "#                                     split_date = train_split)\n"
   ]
  },
  {
   "cell_type": "code",
   "execution_count": 29,
   "metadata": {},
   "outputs": [
    {
     "ename": "MemoryError",
     "evalue": "Unable to allocate 1.07 TiB for an array with shape (589388526720,) and data type int16",
     "output_type": "error",
     "traceback": [
      "\u001b[1;31m---------------------------------------------------------------------------\u001b[0m",
      "\u001b[1;31mMemoryError\u001b[0m                               Traceback (most recent call last)",
      "Cell \u001b[1;32mIn[29], line 2\u001b[0m\n\u001b[0;32m      1\u001b[0m df_temp \u001b[38;5;241m=\u001b[39m df_agg[df_agg[\u001b[38;5;124m'\u001b[39m\u001b[38;5;124mCategory Code\u001b[39m\u001b[38;5;124m'\u001b[39m] \u001b[38;5;241m==\u001b[39m \u001b[38;5;241m1011010101\u001b[39m]\n\u001b[1;32m----> 2\u001b[0m df_temp\u001b[38;5;241m.\u001b[39mgroupby([\u001b[38;5;124m'\u001b[39m\u001b[38;5;124mDate\u001b[39m\u001b[38;5;124m'\u001b[39m,\u001b[38;5;124m'\u001b[39m\u001b[38;5;124mItem Code\u001b[39m\u001b[38;5;124m'\u001b[39m,\u001b[38;5;124m'\u001b[39m\u001b[38;5;124mYear\u001b[39m\u001b[38;5;124m'\u001b[39m,\u001b[38;5;124m'\u001b[39m\u001b[38;5;124mMonth\u001b[39m\u001b[38;5;124m'\u001b[39m,\u001b[38;5;124m'\u001b[39m\u001b[38;5;124mDay\u001b[39m\u001b[38;5;124m'\u001b[39m,\u001b[38;5;124m'\u001b[39m\u001b[38;5;124mDayOfWeek\u001b[39m\u001b[38;5;124m'\u001b[39m,\u001b[38;5;124m'\u001b[39m\u001b[38;5;124mWeekNumber\u001b[39m\u001b[38;5;124m'\u001b[39m,\u001b[38;5;124m'\u001b[39m\u001b[38;5;124mQuarter\u001b[39m\u001b[38;5;124m'\u001b[39m])\u001b[38;5;241m.\u001b[39magg({\u001b[38;5;124m'\u001b[39m\u001b[38;5;124mSales\u001b[39m\u001b[38;5;124m'\u001b[39m: \u001b[38;5;124m'\u001b[39m\u001b[38;5;124msum\u001b[39m\u001b[38;5;124m'\u001b[39m})\u001b[38;5;241m.\u001b[39mreset_index()\n",
      "File \u001b[1;32mc:\\Users\\G2\\anaconda3\\Lib\\site-packages\\pandas\\core\\groupby\\generic.py:1269\u001b[0m, in \u001b[0;36mDataFrameGroupBy.aggregate\u001b[1;34m(self, func, engine, engine_kwargs, *args, **kwargs)\u001b[0m\n\u001b[0;32m   1266\u001b[0m func \u001b[38;5;241m=\u001b[39m maybe_mangle_lambdas(func)\n\u001b[0;32m   1268\u001b[0m op \u001b[38;5;241m=\u001b[39m GroupByApply(\u001b[38;5;28mself\u001b[39m, func, args, kwargs)\n\u001b[1;32m-> 1269\u001b[0m result \u001b[38;5;241m=\u001b[39m op\u001b[38;5;241m.\u001b[39magg()\n\u001b[0;32m   1270\u001b[0m \u001b[38;5;28;01mif\u001b[39;00m \u001b[38;5;129;01mnot\u001b[39;00m is_dict_like(func) \u001b[38;5;129;01mand\u001b[39;00m result \u001b[38;5;129;01mis\u001b[39;00m \u001b[38;5;129;01mnot\u001b[39;00m \u001b[38;5;28;01mNone\u001b[39;00m:\n\u001b[0;32m   1271\u001b[0m     \u001b[38;5;28;01mreturn\u001b[39;00m result\n",
      "File \u001b[1;32mc:\\Users\\G2\\anaconda3\\Lib\\site-packages\\pandas\\core\\apply.py:163\u001b[0m, in \u001b[0;36mApply.agg\u001b[1;34m(self)\u001b[0m\n\u001b[0;32m    160\u001b[0m     \u001b[38;5;28;01mreturn\u001b[39;00m \u001b[38;5;28mself\u001b[39m\u001b[38;5;241m.\u001b[39mapply_str()\n\u001b[0;32m    162\u001b[0m \u001b[38;5;28;01mif\u001b[39;00m is_dict_like(arg):\n\u001b[1;32m--> 163\u001b[0m     \u001b[38;5;28;01mreturn\u001b[39;00m \u001b[38;5;28mself\u001b[39m\u001b[38;5;241m.\u001b[39magg_dict_like()\n\u001b[0;32m    164\u001b[0m \u001b[38;5;28;01melif\u001b[39;00m is_list_like(arg):\n\u001b[0;32m    165\u001b[0m     \u001b[38;5;66;03m# we require a list, but not a 'str'\u001b[39;00m\n\u001b[0;32m    166\u001b[0m     \u001b[38;5;28;01mreturn\u001b[39;00m \u001b[38;5;28mself\u001b[39m\u001b[38;5;241m.\u001b[39magg_list_like()\n",
      "File \u001b[1;32mc:\\Users\\G2\\anaconda3\\Lib\\site-packages\\pandas\\core\\apply.py:420\u001b[0m, in \u001b[0;36mApply.agg_dict_like\u001b[1;34m(self)\u001b[0m\n\u001b[0;32m    417\u001b[0m         results \u001b[38;5;241m=\u001b[39m {key: colg\u001b[38;5;241m.\u001b[39magg(how) \u001b[38;5;28;01mfor\u001b[39;00m key, how \u001b[38;5;129;01min\u001b[39;00m arg\u001b[38;5;241m.\u001b[39mitems()}\n\u001b[0;32m    418\u001b[0m     \u001b[38;5;28;01melse\u001b[39;00m:\n\u001b[0;32m    419\u001b[0m         \u001b[38;5;66;03m# key used for column selection and output\u001b[39;00m\n\u001b[1;32m--> 420\u001b[0m         results \u001b[38;5;241m=\u001b[39m {\n\u001b[0;32m    421\u001b[0m             key: obj\u001b[38;5;241m.\u001b[39m_gotitem(key, ndim\u001b[38;5;241m=\u001b[39m\u001b[38;5;241m1\u001b[39m)\u001b[38;5;241m.\u001b[39magg(how) \u001b[38;5;28;01mfor\u001b[39;00m key, how \u001b[38;5;129;01min\u001b[39;00m arg\u001b[38;5;241m.\u001b[39mitems()\n\u001b[0;32m    422\u001b[0m         }\n\u001b[0;32m    424\u001b[0m \u001b[38;5;66;03m# set the final keys\u001b[39;00m\n\u001b[0;32m    425\u001b[0m keys \u001b[38;5;241m=\u001b[39m \u001b[38;5;28mlist\u001b[39m(arg\u001b[38;5;241m.\u001b[39mkeys())\n",
      "File \u001b[1;32mc:\\Users\\G2\\anaconda3\\Lib\\site-packages\\pandas\\core\\apply.py:421\u001b[0m, in \u001b[0;36m<dictcomp>\u001b[1;34m(.0)\u001b[0m\n\u001b[0;32m    417\u001b[0m         results \u001b[38;5;241m=\u001b[39m {key: colg\u001b[38;5;241m.\u001b[39magg(how) \u001b[38;5;28;01mfor\u001b[39;00m key, how \u001b[38;5;129;01min\u001b[39;00m arg\u001b[38;5;241m.\u001b[39mitems()}\n\u001b[0;32m    418\u001b[0m     \u001b[38;5;28;01melse\u001b[39;00m:\n\u001b[0;32m    419\u001b[0m         \u001b[38;5;66;03m# key used for column selection and output\u001b[39;00m\n\u001b[0;32m    420\u001b[0m         results \u001b[38;5;241m=\u001b[39m {\n\u001b[1;32m--> 421\u001b[0m             key: obj\u001b[38;5;241m.\u001b[39m_gotitem(key, ndim\u001b[38;5;241m=\u001b[39m\u001b[38;5;241m1\u001b[39m)\u001b[38;5;241m.\u001b[39magg(how) \u001b[38;5;28;01mfor\u001b[39;00m key, how \u001b[38;5;129;01min\u001b[39;00m arg\u001b[38;5;241m.\u001b[39mitems()\n\u001b[0;32m    422\u001b[0m         }\n\u001b[0;32m    424\u001b[0m \u001b[38;5;66;03m# set the final keys\u001b[39;00m\n\u001b[0;32m    425\u001b[0m keys \u001b[38;5;241m=\u001b[39m \u001b[38;5;28mlist\u001b[39m(arg\u001b[38;5;241m.\u001b[39mkeys())\n",
      "File \u001b[1;32mc:\\Users\\G2\\anaconda3\\Lib\\site-packages\\pandas\\core\\groupby\\generic.py:232\u001b[0m, in \u001b[0;36mSeriesGroupBy.aggregate\u001b[1;34m(self, func, engine, engine_kwargs, *args, **kwargs)\u001b[0m\n\u001b[0;32m    229\u001b[0m     kwargs \u001b[38;5;241m=\u001b[39m {}\n\u001b[0;32m    231\u001b[0m \u001b[38;5;28;01mif\u001b[39;00m \u001b[38;5;28misinstance\u001b[39m(func, \u001b[38;5;28mstr\u001b[39m):\n\u001b[1;32m--> 232\u001b[0m     \u001b[38;5;28;01mreturn\u001b[39;00m \u001b[38;5;28mgetattr\u001b[39m(\u001b[38;5;28mself\u001b[39m, func)(\u001b[38;5;241m*\u001b[39margs, \u001b[38;5;241m*\u001b[39m\u001b[38;5;241m*\u001b[39mkwargs)\n\u001b[0;32m    234\u001b[0m \u001b[38;5;28;01melif\u001b[39;00m \u001b[38;5;28misinstance\u001b[39m(func, abc\u001b[38;5;241m.\u001b[39mIterable):\n\u001b[0;32m    235\u001b[0m     \u001b[38;5;66;03m# Catch instances of lists / tuples\u001b[39;00m\n\u001b[0;32m    236\u001b[0m     \u001b[38;5;66;03m# but not the class list / tuple itself.\u001b[39;00m\n\u001b[0;32m    237\u001b[0m     func \u001b[38;5;241m=\u001b[39m maybe_mangle_lambdas(func)\n",
      "File \u001b[1;32mc:\\Users\\G2\\anaconda3\\Lib\\site-packages\\pandas\\core\\groupby\\groupby.py:2270\u001b[0m, in \u001b[0;36mGroupBy.sum\u001b[1;34m(self, numeric_only, min_count, engine, engine_kwargs)\u001b[0m\n\u001b[0;32m   2262\u001b[0m \u001b[38;5;28;01mwith\u001b[39;00m com\u001b[38;5;241m.\u001b[39mtemp_setattr(\u001b[38;5;28mself\u001b[39m, \u001b[38;5;124m\"\u001b[39m\u001b[38;5;124mobserved\u001b[39m\u001b[38;5;124m\"\u001b[39m, \u001b[38;5;28;01mTrue\u001b[39;00m):\n\u001b[0;32m   2263\u001b[0m     result \u001b[38;5;241m=\u001b[39m \u001b[38;5;28mself\u001b[39m\u001b[38;5;241m.\u001b[39m_agg_general(\n\u001b[0;32m   2264\u001b[0m         numeric_only\u001b[38;5;241m=\u001b[39mnumeric_only,\n\u001b[0;32m   2265\u001b[0m         min_count\u001b[38;5;241m=\u001b[39mmin_count,\n\u001b[0;32m   2266\u001b[0m         alias\u001b[38;5;241m=\u001b[39m\u001b[38;5;124m\"\u001b[39m\u001b[38;5;124msum\u001b[39m\u001b[38;5;124m\"\u001b[39m,\n\u001b[0;32m   2267\u001b[0m         npfunc\u001b[38;5;241m=\u001b[39mnp\u001b[38;5;241m.\u001b[39msum,\n\u001b[0;32m   2268\u001b[0m     )\n\u001b[1;32m-> 2270\u001b[0m \u001b[38;5;28;01mreturn\u001b[39;00m \u001b[38;5;28mself\u001b[39m\u001b[38;5;241m.\u001b[39m_reindex_output(result, fill_value\u001b[38;5;241m=\u001b[39m\u001b[38;5;241m0\u001b[39m)\n",
      "File \u001b[1;32mc:\\Users\\G2\\anaconda3\\Lib\\site-packages\\pandas\\core\\groupby\\groupby.py:4063\u001b[0m, in \u001b[0;36mGroupBy._reindex_output\u001b[1;34m(self, output, fill_value, qs)\u001b[0m\n\u001b[0;32m   4061\u001b[0m     levels_list\u001b[38;5;241m.\u001b[39mappend(qs)  \u001b[38;5;66;03m# type: ignore[arg-type]\u001b[39;00m\n\u001b[0;32m   4062\u001b[0m     names \u001b[38;5;241m=\u001b[39m names \u001b[38;5;241m+\u001b[39m [\u001b[38;5;28;01mNone\u001b[39;00m]\n\u001b[1;32m-> 4063\u001b[0m index \u001b[38;5;241m=\u001b[39m MultiIndex\u001b[38;5;241m.\u001b[39mfrom_product(levels_list, names\u001b[38;5;241m=\u001b[39mnames)\n\u001b[0;32m   4064\u001b[0m \u001b[38;5;28;01mif\u001b[39;00m \u001b[38;5;28mself\u001b[39m\u001b[38;5;241m.\u001b[39msort:\n\u001b[0;32m   4065\u001b[0m     index \u001b[38;5;241m=\u001b[39m index\u001b[38;5;241m.\u001b[39msort_values()\n",
      "File \u001b[1;32mc:\\Users\\G2\\anaconda3\\Lib\\site-packages\\pandas\\core\\indexes\\multi.py:657\u001b[0m, in \u001b[0;36mMultiIndex.from_product\u001b[1;34m(cls, iterables, sortorder, names)\u001b[0m\n\u001b[0;32m    654\u001b[0m     names \u001b[38;5;241m=\u001b[39m [\u001b[38;5;28mgetattr\u001b[39m(it, \u001b[38;5;124m\"\u001b[39m\u001b[38;5;124mname\u001b[39m\u001b[38;5;124m\"\u001b[39m, \u001b[38;5;28;01mNone\u001b[39;00m) \u001b[38;5;28;01mfor\u001b[39;00m it \u001b[38;5;129;01min\u001b[39;00m iterables]\n\u001b[0;32m    656\u001b[0m \u001b[38;5;66;03m# codes are all ndarrays, so cartesian_product is lossless\u001b[39;00m\n\u001b[1;32m--> 657\u001b[0m codes \u001b[38;5;241m=\u001b[39m cartesian_product(codes)\n\u001b[0;32m    658\u001b[0m \u001b[38;5;28;01mreturn\u001b[39;00m \u001b[38;5;28mcls\u001b[39m(levels, codes, sortorder\u001b[38;5;241m=\u001b[39msortorder, names\u001b[38;5;241m=\u001b[39mnames)\n",
      "File \u001b[1;32mc:\\Users\\G2\\anaconda3\\Lib\\site-packages\\pandas\\core\\reshape\\util.py:60\u001b[0m, in \u001b[0;36mcartesian_product\u001b[1;34m(X)\u001b[0m\n\u001b[0;32m     56\u001b[0m     b \u001b[38;5;241m=\u001b[39m np\u001b[38;5;241m.\u001b[39mzeros_like(cumprodX)\n\u001b[0;32m     58\u001b[0m \u001b[38;5;66;03m# error: Argument of type \"int_\" cannot be assigned to parameter \"num\" of\u001b[39;00m\n\u001b[0;32m     59\u001b[0m \u001b[38;5;66;03m# type \"int\" in function \"tile_compat\"\u001b[39;00m\n\u001b[1;32m---> 60\u001b[0m \u001b[38;5;28;01mreturn\u001b[39;00m [\n\u001b[0;32m     61\u001b[0m     tile_compat(\n\u001b[0;32m     62\u001b[0m         np\u001b[38;5;241m.\u001b[39mrepeat(x, b[i]),\n\u001b[0;32m     63\u001b[0m         np\u001b[38;5;241m.\u001b[39mprod(a[i]),  \u001b[38;5;66;03m# pyright: ignore[reportGeneralTypeIssues]\u001b[39;00m\n\u001b[0;32m     64\u001b[0m     )\n\u001b[0;32m     65\u001b[0m     \u001b[38;5;28;01mfor\u001b[39;00m i, x \u001b[38;5;129;01min\u001b[39;00m \u001b[38;5;28menumerate\u001b[39m(X)\n\u001b[0;32m     66\u001b[0m ]\n",
      "File \u001b[1;32mc:\\Users\\G2\\anaconda3\\Lib\\site-packages\\pandas\\core\\reshape\\util.py:62\u001b[0m, in \u001b[0;36m<listcomp>\u001b[1;34m(.0)\u001b[0m\n\u001b[0;32m     56\u001b[0m     b \u001b[38;5;241m=\u001b[39m np\u001b[38;5;241m.\u001b[39mzeros_like(cumprodX)\n\u001b[0;32m     58\u001b[0m \u001b[38;5;66;03m# error: Argument of type \"int_\" cannot be assigned to parameter \"num\" of\u001b[39;00m\n\u001b[0;32m     59\u001b[0m \u001b[38;5;66;03m# type \"int\" in function \"tile_compat\"\u001b[39;00m\n\u001b[0;32m     60\u001b[0m \u001b[38;5;28;01mreturn\u001b[39;00m [\n\u001b[0;32m     61\u001b[0m     tile_compat(\n\u001b[1;32m---> 62\u001b[0m         np\u001b[38;5;241m.\u001b[39mrepeat(x, b[i]),\n\u001b[0;32m     63\u001b[0m         np\u001b[38;5;241m.\u001b[39mprod(a[i]),  \u001b[38;5;66;03m# pyright: ignore[reportGeneralTypeIssues]\u001b[39;00m\n\u001b[0;32m     64\u001b[0m     )\n\u001b[0;32m     65\u001b[0m     \u001b[38;5;28;01mfor\u001b[39;00m i, x \u001b[38;5;129;01min\u001b[39;00m \u001b[38;5;28menumerate\u001b[39m(X)\n\u001b[0;32m     66\u001b[0m ]\n",
      "File \u001b[1;32m<__array_function__ internals>:200\u001b[0m, in \u001b[0;36mrepeat\u001b[1;34m(*args, **kwargs)\u001b[0m\n",
      "File \u001b[1;32mc:\\Users\\G2\\anaconda3\\Lib\\site-packages\\numpy\\core\\fromnumeric.py:479\u001b[0m, in \u001b[0;36mrepeat\u001b[1;34m(a, repeats, axis)\u001b[0m\n\u001b[0;32m    436\u001b[0m \u001b[38;5;129m@array_function_dispatch\u001b[39m(_repeat_dispatcher)\n\u001b[0;32m    437\u001b[0m \u001b[38;5;28;01mdef\u001b[39;00m \u001b[38;5;21mrepeat\u001b[39m(a, repeats, axis\u001b[38;5;241m=\u001b[39m\u001b[38;5;28;01mNone\u001b[39;00m):\n\u001b[0;32m    438\u001b[0m \u001b[38;5;250m    \u001b[39m\u001b[38;5;124;03m\"\"\"\u001b[39;00m\n\u001b[0;32m    439\u001b[0m \u001b[38;5;124;03m    Repeat elements of an array.\u001b[39;00m\n\u001b[0;32m    440\u001b[0m \n\u001b[1;32m   (...)\u001b[0m\n\u001b[0;32m    477\u001b[0m \n\u001b[0;32m    478\u001b[0m \u001b[38;5;124;03m    \"\"\"\u001b[39;00m\n\u001b[1;32m--> 479\u001b[0m     \u001b[38;5;28;01mreturn\u001b[39;00m _wrapfunc(a, \u001b[38;5;124m'\u001b[39m\u001b[38;5;124mrepeat\u001b[39m\u001b[38;5;124m'\u001b[39m, repeats, axis\u001b[38;5;241m=\u001b[39maxis)\n",
      "File \u001b[1;32mc:\\Users\\G2\\anaconda3\\Lib\\site-packages\\numpy\\core\\fromnumeric.py:57\u001b[0m, in \u001b[0;36m_wrapfunc\u001b[1;34m(obj, method, *args, **kwds)\u001b[0m\n\u001b[0;32m     54\u001b[0m     \u001b[38;5;28;01mreturn\u001b[39;00m _wrapit(obj, method, \u001b[38;5;241m*\u001b[39margs, \u001b[38;5;241m*\u001b[39m\u001b[38;5;241m*\u001b[39mkwds)\n\u001b[0;32m     56\u001b[0m \u001b[38;5;28;01mtry\u001b[39;00m:\n\u001b[1;32m---> 57\u001b[0m     \u001b[38;5;28;01mreturn\u001b[39;00m bound(\u001b[38;5;241m*\u001b[39margs, \u001b[38;5;241m*\u001b[39m\u001b[38;5;241m*\u001b[39mkwds)\n\u001b[0;32m     58\u001b[0m \u001b[38;5;28;01mexcept\u001b[39;00m \u001b[38;5;167;01mTypeError\u001b[39;00m:\n\u001b[0;32m     59\u001b[0m     \u001b[38;5;66;03m# A TypeError occurs if the object does have such a method in its\u001b[39;00m\n\u001b[0;32m     60\u001b[0m     \u001b[38;5;66;03m# class, but its signature is not identical to that of NumPy's. This\u001b[39;00m\n\u001b[1;32m   (...)\u001b[0m\n\u001b[0;32m     64\u001b[0m     \u001b[38;5;66;03m# Call _wrapit from within the except clause to ensure a potential\u001b[39;00m\n\u001b[0;32m     65\u001b[0m     \u001b[38;5;66;03m# exception has a traceback chain.\u001b[39;00m\n\u001b[0;32m     66\u001b[0m     \u001b[38;5;28;01mreturn\u001b[39;00m _wrapit(obj, method, \u001b[38;5;241m*\u001b[39margs, \u001b[38;5;241m*\u001b[39m\u001b[38;5;241m*\u001b[39mkwds)\n",
      "\u001b[1;31mMemoryError\u001b[0m: Unable to allocate 1.07 TiB for an array with shape (589388526720,) and data type int16"
     ]
    }
   ],
   "source": [
    "df_temp = df_agg[df_agg['Category Code'] == 1011010101]\n",
    "df_temp.groupby(['Date','Item Code']).agg({'Sales': 'sum'}).reset_index()\n"
   ]
  },
  {
   "cell_type": "code",
   "execution_count": 28,
   "metadata": {},
   "outputs": [
    {
     "name": "stdout",
     "output_type": "stream",
     "text": [
      "Train size: 871 | 80.28%\n",
      "Test size: 214 | 19.72%\n"
     ]
    }
   ],
   "source": [
    "train_split = create_split_date(df = df_temp,\n",
    "                                date_column = 'Date',\n",
    "                                train_size = 0.8)\n",
    "train, test = split_train_test_date(df = df_temp,\n",
    "                                    split_date = train_split)\n",
    "\n",
    "X_train, y_train = train.drop('Sales', axis = 1), train[['Sales']]\n",
    "X_test, y_test = test.drop('Sales', axis = 1), test[['Sales']]"
   ]
  },
  {
   "cell_type": "markdown",
   "metadata": {},
   "source": [
    "# 6. Train and evaluate"
   ]
  },
  {
   "cell_type": "markdown",
   "metadata": {},
   "source": [
    "## 6.1 Train"
   ]
  },
  {
   "cell_type": "code",
   "execution_count": 31,
   "metadata": {},
   "outputs": [
    {
     "name": "stdout",
     "output_type": "stream",
     "text": [
      "Catgory Trainig: 1011010101\n",
      "Train size: 14898 | 82.35%\n",
      "Test size: 3193 | 17.65%\n",
      "Training size: 14898 | Testing size: 3193\n",
      "[0]\tvalidation_0-rmse:65.50490\tvalidation_1-rmse:63.38107\n",
      "[100]\tvalidation_0-rmse:63.32392\tvalidation_1-rmse:62.95072\n",
      "[200]\tvalidation_0-rmse:61.33192\tvalidation_1-rmse:62.58914\n",
      "[300]\tvalidation_0-rmse:59.50443\tvalidation_1-rmse:62.29902\n",
      "[400]\tvalidation_0-rmse:57.84662\tvalidation_1-rmse:62.09004\n",
      "[500]\tvalidation_0-rmse:56.35129\tvalidation_1-rmse:61.98814\n",
      "[600]\tvalidation_0-rmse:55.00430\tvalidation_1-rmse:61.91261\n",
      "[700]\tvalidation_0-rmse:53.78471\tvalidation_1-rmse:61.83284\n",
      "[800]\tvalidation_0-rmse:52.68174\tvalidation_1-rmse:61.78209\n",
      "[900]\tvalidation_0-rmse:51.65264\tvalidation_1-rmse:61.68759\n",
      "[1000]\tvalidation_0-rmse:50.73319\tvalidation_1-rmse:61.59766\n",
      "[1100]\tvalidation_0-rmse:49.83198\tvalidation_1-rmse:61.51727\n",
      "[1200]\tvalidation_0-rmse:49.04190\tvalidation_1-rmse:61.50221\n",
      "[1300]\tvalidation_0-rmse:48.34369\tvalidation_1-rmse:61.52935\n",
      "[1376]\tvalidation_0-rmse:47.83526\tvalidation_1-rmse:61.58228\n",
      "--------------------------------------------\n",
      "\n",
      "Catgory Trainig: 1011010201\n",
      "Train size: 14898 | 82.35%\n",
      "Test size: 3193 | 17.65%\n",
      "Training size: 14898 | Testing size: 3193\n",
      "[0]\tvalidation_0-rmse:65.50490\tvalidation_1-rmse:63.38107\n",
      "[100]\tvalidation_0-rmse:63.32392\tvalidation_1-rmse:62.95072\n",
      "[200]\tvalidation_0-rmse:61.33192\tvalidation_1-rmse:62.58914\n",
      "[300]\tvalidation_0-rmse:59.50443\tvalidation_1-rmse:62.29902\n",
      "[400]\tvalidation_0-rmse:57.84662\tvalidation_1-rmse:62.09004\n",
      "[500]\tvalidation_0-rmse:56.35129\tvalidation_1-rmse:61.98814\n",
      "[600]\tvalidation_0-rmse:55.00430\tvalidation_1-rmse:61.91261\n",
      "[700]\tvalidation_0-rmse:53.78471\tvalidation_1-rmse:61.83284\n",
      "[800]\tvalidation_0-rmse:52.68174\tvalidation_1-rmse:61.78209\n",
      "[900]\tvalidation_0-rmse:51.65264\tvalidation_1-rmse:61.68759\n",
      "[1000]\tvalidation_0-rmse:50.73319\tvalidation_1-rmse:61.59766\n",
      "[1100]\tvalidation_0-rmse:49.83198\tvalidation_1-rmse:61.51727\n",
      "[1200]\tvalidation_0-rmse:49.04190\tvalidation_1-rmse:61.50221\n",
      "[1300]\tvalidation_0-rmse:48.34369\tvalidation_1-rmse:61.52935\n",
      "[1376]\tvalidation_0-rmse:47.83526\tvalidation_1-rmse:61.58228\n",
      "--------------------------------------------\n",
      "\n",
      "Catgory Trainig: 1011010402\n",
      "Train size: 14898 | 82.35%\n",
      "Test size: 3193 | 17.65%\n",
      "Training size: 14898 | Testing size: 3193\n",
      "[0]\tvalidation_0-rmse:65.50490\tvalidation_1-rmse:63.38107\n",
      "[100]\tvalidation_0-rmse:63.32392\tvalidation_1-rmse:62.95072\n",
      "[200]\tvalidation_0-rmse:61.33192\tvalidation_1-rmse:62.58914\n",
      "[300]\tvalidation_0-rmse:59.50443\tvalidation_1-rmse:62.29902\n",
      "[400]\tvalidation_0-rmse:57.84662\tvalidation_1-rmse:62.09004\n",
      "[500]\tvalidation_0-rmse:56.35129\tvalidation_1-rmse:61.98814\n",
      "[600]\tvalidation_0-rmse:55.00430\tvalidation_1-rmse:61.91261\n",
      "[700]\tvalidation_0-rmse:53.78471\tvalidation_1-rmse:61.83284\n",
      "[800]\tvalidation_0-rmse:52.68174\tvalidation_1-rmse:61.78209\n",
      "[900]\tvalidation_0-rmse:51.65264\tvalidation_1-rmse:61.68759\n",
      "[1000]\tvalidation_0-rmse:50.73319\tvalidation_1-rmse:61.59766\n",
      "[1100]\tvalidation_0-rmse:49.83198\tvalidation_1-rmse:61.51727\n",
      "[1200]\tvalidation_0-rmse:49.04190\tvalidation_1-rmse:61.50221\n",
      "[1300]\tvalidation_0-rmse:48.34369\tvalidation_1-rmse:61.52935\n",
      "[1375]\tvalidation_0-rmse:47.84159\tvalidation_1-rmse:61.58307\n",
      "--------------------------------------------\n",
      "\n",
      "Catgory Trainig: 1011010501\n",
      "Train size: 14898 | 82.35%\n",
      "Test size: 3193 | 17.65%\n",
      "Training size: 14898 | Testing size: 3193\n",
      "[0]\tvalidation_0-rmse:65.50490\tvalidation_1-rmse:63.38107\n",
      "[100]\tvalidation_0-rmse:63.32392\tvalidation_1-rmse:62.95072\n",
      "[200]\tvalidation_0-rmse:61.33192\tvalidation_1-rmse:62.58914\n",
      "[300]\tvalidation_0-rmse:59.50443\tvalidation_1-rmse:62.29902\n",
      "[400]\tvalidation_0-rmse:57.84662\tvalidation_1-rmse:62.09004\n",
      "[500]\tvalidation_0-rmse:56.35129\tvalidation_1-rmse:61.98814\n",
      "[600]\tvalidation_0-rmse:55.00430\tvalidation_1-rmse:61.91261\n",
      "[700]\tvalidation_0-rmse:53.78471\tvalidation_1-rmse:61.83284\n",
      "[800]\tvalidation_0-rmse:52.68174\tvalidation_1-rmse:61.78209\n",
      "[900]\tvalidation_0-rmse:51.65264\tvalidation_1-rmse:61.68759\n",
      "[1000]\tvalidation_0-rmse:50.73319\tvalidation_1-rmse:61.59766\n",
      "[1100]\tvalidation_0-rmse:49.83198\tvalidation_1-rmse:61.51727\n",
      "[1200]\tvalidation_0-rmse:49.04190\tvalidation_1-rmse:61.50221\n",
      "[1300]\tvalidation_0-rmse:48.34369\tvalidation_1-rmse:61.52935\n",
      "[1376]\tvalidation_0-rmse:47.83526\tvalidation_1-rmse:61.58228\n",
      "--------------------------------------------\n",
      "\n",
      "Catgory Trainig: 1011010504\n",
      "Train size: 14898 | 82.35%\n",
      "Test size: 3193 | 17.65%\n",
      "Training size: 14898 | Testing size: 3193\n",
      "[0]\tvalidation_0-rmse:65.50490\tvalidation_1-rmse:63.38107\n",
      "[100]\tvalidation_0-rmse:63.32392\tvalidation_1-rmse:62.95072\n",
      "[200]\tvalidation_0-rmse:61.33192\tvalidation_1-rmse:62.58914\n",
      "[300]\tvalidation_0-rmse:59.50443\tvalidation_1-rmse:62.29902\n",
      "[400]\tvalidation_0-rmse:57.84662\tvalidation_1-rmse:62.09004\n",
      "[500]\tvalidation_0-rmse:56.35129\tvalidation_1-rmse:61.98814\n",
      "[600]\tvalidation_0-rmse:55.00430\tvalidation_1-rmse:61.91261\n",
      "[700]\tvalidation_0-rmse:53.78471\tvalidation_1-rmse:61.83284\n",
      "[800]\tvalidation_0-rmse:52.68174\tvalidation_1-rmse:61.78209\n",
      "[900]\tvalidation_0-rmse:51.65264\tvalidation_1-rmse:61.68759\n",
      "[1000]\tvalidation_0-rmse:50.73319\tvalidation_1-rmse:61.59766\n",
      "[1100]\tvalidation_0-rmse:49.83198\tvalidation_1-rmse:61.51727\n",
      "[1200]\tvalidation_0-rmse:49.04190\tvalidation_1-rmse:61.50221\n",
      "[1300]\tvalidation_0-rmse:48.34369\tvalidation_1-rmse:61.52935\n",
      "[1376]\tvalidation_0-rmse:47.83526\tvalidation_1-rmse:61.58228\n",
      "--------------------------------------------\n",
      "\n",
      "Catgory Trainig: 1011010801\n",
      "Train size: 14898 | 82.35%\n",
      "Test size: 3193 | 17.65%\n",
      "Training size: 14898 | Testing size: 3193\n",
      "[0]\tvalidation_0-rmse:65.50490\tvalidation_1-rmse:63.38107\n",
      "[100]\tvalidation_0-rmse:63.32392\tvalidation_1-rmse:62.95072\n",
      "[200]\tvalidation_0-rmse:61.33192\tvalidation_1-rmse:62.58914\n",
      "[300]\tvalidation_0-rmse:59.50443\tvalidation_1-rmse:62.29902\n",
      "[400]\tvalidation_0-rmse:57.84662\tvalidation_1-rmse:62.09004\n",
      "[500]\tvalidation_0-rmse:56.35129\tvalidation_1-rmse:61.98814\n",
      "[600]\tvalidation_0-rmse:55.00430\tvalidation_1-rmse:61.91261\n",
      "[700]\tvalidation_0-rmse:53.78471\tvalidation_1-rmse:61.83284\n",
      "[800]\tvalidation_0-rmse:52.68174\tvalidation_1-rmse:61.78209\n",
      "[900]\tvalidation_0-rmse:51.65264\tvalidation_1-rmse:61.68759\n",
      "[1000]\tvalidation_0-rmse:50.73319\tvalidation_1-rmse:61.59766\n",
      "[1100]\tvalidation_0-rmse:49.83198\tvalidation_1-rmse:61.51727\n",
      "[1200]\tvalidation_0-rmse:49.04190\tvalidation_1-rmse:61.50221\n",
      "[1300]\tvalidation_0-rmse:48.34369\tvalidation_1-rmse:61.52935\n",
      "[1376]\tvalidation_0-rmse:47.83526\tvalidation_1-rmse:61.58228\n",
      "--------------------------------------------\n",
      "\n"
     ]
    }
   ],
   "source": [
    "def category_train_loop(df: pd.DataFrame, categories: list):\n",
    "    \"\"\"\n",
    "    Loop all category and train in each model separatelly\n",
    "    \"\"\"\n",
    "    for category in categories:\n",
    "        print(f'Catgory Trainig: {category}')\n",
    "        # Slice DataFrame to each category\n",
    "        df_category = df[df['Category Code'] == category]\n",
    "        # df_category = df_category.groupby(['Date','Item Code','Year','Month','Day','DayOfWeek','WeekNumber','Quarter'], as_index = False)['Sales'].sum()\n",
    "        df_category = df_category.groupby(['Date', 'Item Code'], as_index = False)['Sales'].sum()\n",
    "        df_category = create_date_feature(df = df_category,\n",
    "                                          date_column = 'Date')\n",
    "\n",
    "        # Split train and test\n",
    "        train_split = create_split_date(df = df_temp,\n",
    "                                        date_column = 'Date',\n",
    "                                        train_size = 0.8)\n",
    "        train, test = split_train_test_date(df = df_temp,\n",
    "                                            split_date = train_split)\n",
    "\n",
    "        # Create X and y to train and test\n",
    "        X_train, y_train = train.drop('Sales', axis = 1), train[['Sales']]\n",
    "        X_test, y_test = test.drop('Sales', axis = 1), test[['Sales']]\n",
    "\n",
    "        # Train\n",
    "        print(f'Training size: {X_train.shape[0]} | Testing size: {X_test.shape[0]}')\n",
    "        xgb_reg = xgb.XGBRegressor(n_estimators = 2500,\n",
    "                                    eval_metrics = mean_squared_error,\n",
    "                                    enable_categorical = True,\n",
    "                                    early_stopping_rounds = 200,\n",
    "                                    learning_rate = 0.0007,\n",
    "                                    random_state = 244)\n",
    "        xgb_reg.fit(X = X_train,\n",
    "                    y = y_train,\n",
    "                    eval_set = [(X_train, y_train), (X_test, y_test)],\n",
    "                    verbose = 100)\n",
    "        print('--------------------------------------------\\n')\n",
    "\n",
    "categories = df_agg['Category Code'].unique()\n",
    "category_train_loop(categories = categories,\n",
    "                    df = df_agg)\n",
    "        "
   ]
  },
  {
   "cell_type": "code",
   "execution_count": 46,
   "metadata": {},
   "outputs": [
    {
     "name": "stdout",
     "output_type": "stream",
     "text": [
      "[0]\tvalidation_0-rmse:478.72378\tvalidation_1-rmse:414.08564\n"
     ]
    },
    {
     "name": "stdout",
     "output_type": "stream",
     "text": [
      "[100]\tvalidation_0-rmse:446.93552\tvalidation_1-rmse:404.84267\n",
      "[200]\tvalidation_0-rmse:418.50490\tvalidation_1-rmse:399.09948\n",
      "[300]\tvalidation_0-rmse:393.34723\tvalidation_1-rmse:395.59127\n",
      "[400]\tvalidation_0-rmse:370.82591\tvalidation_1-rmse:394.52522\n",
      "[500]\tvalidation_0-rmse:350.53818\tvalidation_1-rmse:396.19925\n",
      "[592]\tvalidation_0-rmse:334.03952\tvalidation_1-rmse:399.35884\n"
     ]
    },
    {
     "data": {
      "text/html": [
       "<style>#sk-container-id-18 {color: black;}#sk-container-id-18 pre{padding: 0;}#sk-container-id-18 div.sk-toggleable {background-color: white;}#sk-container-id-18 label.sk-toggleable__label {cursor: pointer;display: block;width: 100%;margin-bottom: 0;padding: 0.3em;box-sizing: border-box;text-align: center;}#sk-container-id-18 label.sk-toggleable__label-arrow:before {content: \"▸\";float: left;margin-right: 0.25em;color: #696969;}#sk-container-id-18 label.sk-toggleable__label-arrow:hover:before {color: black;}#sk-container-id-18 div.sk-estimator:hover label.sk-toggleable__label-arrow:before {color: black;}#sk-container-id-18 div.sk-toggleable__content {max-height: 0;max-width: 0;overflow: hidden;text-align: left;background-color: #f0f8ff;}#sk-container-id-18 div.sk-toggleable__content pre {margin: 0.2em;color: black;border-radius: 0.25em;background-color: #f0f8ff;}#sk-container-id-18 input.sk-toggleable__control:checked~div.sk-toggleable__content {max-height: 200px;max-width: 100%;overflow: auto;}#sk-container-id-18 input.sk-toggleable__control:checked~label.sk-toggleable__label-arrow:before {content: \"▾\";}#sk-container-id-18 div.sk-estimator input.sk-toggleable__control:checked~label.sk-toggleable__label {background-color: #d4ebff;}#sk-container-id-18 div.sk-label input.sk-toggleable__control:checked~label.sk-toggleable__label {background-color: #d4ebff;}#sk-container-id-18 input.sk-hidden--visually {border: 0;clip: rect(1px 1px 1px 1px);clip: rect(1px, 1px, 1px, 1px);height: 1px;margin: -1px;overflow: hidden;padding: 0;position: absolute;width: 1px;}#sk-container-id-18 div.sk-estimator {font-family: monospace;background-color: #f0f8ff;border: 1px dotted black;border-radius: 0.25em;box-sizing: border-box;margin-bottom: 0.5em;}#sk-container-id-18 div.sk-estimator:hover {background-color: #d4ebff;}#sk-container-id-18 div.sk-parallel-item::after {content: \"\";width: 100%;border-bottom: 1px solid gray;flex-grow: 1;}#sk-container-id-18 div.sk-label:hover label.sk-toggleable__label {background-color: #d4ebff;}#sk-container-id-18 div.sk-serial::before {content: \"\";position: absolute;border-left: 1px solid gray;box-sizing: border-box;top: 0;bottom: 0;left: 50%;z-index: 0;}#sk-container-id-18 div.sk-serial {display: flex;flex-direction: column;align-items: center;background-color: white;padding-right: 0.2em;padding-left: 0.2em;position: relative;}#sk-container-id-18 div.sk-item {position: relative;z-index: 1;}#sk-container-id-18 div.sk-parallel {display: flex;align-items: stretch;justify-content: center;background-color: white;position: relative;}#sk-container-id-18 div.sk-item::before, #sk-container-id-18 div.sk-parallel-item::before {content: \"\";position: absolute;border-left: 1px solid gray;box-sizing: border-box;top: 0;bottom: 0;left: 50%;z-index: -1;}#sk-container-id-18 div.sk-parallel-item {display: flex;flex-direction: column;z-index: 1;position: relative;background-color: white;}#sk-container-id-18 div.sk-parallel-item:first-child::after {align-self: flex-end;width: 50%;}#sk-container-id-18 div.sk-parallel-item:last-child::after {align-self: flex-start;width: 50%;}#sk-container-id-18 div.sk-parallel-item:only-child::after {width: 0;}#sk-container-id-18 div.sk-dashed-wrapped {border: 1px dashed gray;margin: 0 0.4em 0.5em 0.4em;box-sizing: border-box;padding-bottom: 0.4em;background-color: white;}#sk-container-id-18 div.sk-label label {font-family: monospace;font-weight: bold;display: inline-block;line-height: 1.2em;}#sk-container-id-18 div.sk-label-container {text-align: center;}#sk-container-id-18 div.sk-container {/* jupyter's `normalize.less` sets `[hidden] { display: none; }` but bootstrap.min.css set `[hidden] { display: none !important; }` so we also need the `!important` here to be able to override the default hidden behavior on the sphinx rendered scikit-learn.org. See: https://github.com/scikit-learn/scikit-learn/issues/21755 */display: inline-block !important;position: relative;}#sk-container-id-18 div.sk-text-repr-fallback {display: none;}</style><div id=\"sk-container-id-18\" class=\"sk-top-container\"><div class=\"sk-text-repr-fallback\"><pre>XGBRegressor(base_score=None, booster=None, callbacks=None,\n",
       "             colsample_bylevel=None, colsample_bynode=None,\n",
       "             colsample_bytree=None, device=None, early_stopping_rounds=200,\n",
       "             enable_categorical=True, eval_metric=None,\n",
       "             eval_metrics=&lt;function mean_squared_error at 0x000002570CF907C0&gt;,\n",
       "             feature_types=None, gamma=None, grow_policy=None,\n",
       "             importance_type=None, interaction_constraints=None,\n",
       "             learning_rate=0.001, max_bin=None, max_cat_threshold=None,\n",
       "             max_cat_to_onehot=None, max_delta_step=None, max_depth=None,\n",
       "             max_leaves=None, min_child_weight=None, missing=nan,\n",
       "             monotone_constraints=None, multi_strategy=None, n_estimators=2500,\n",
       "             n_jobs=None, num_parallel_tree=None, ...)</pre><b>In a Jupyter environment, please rerun this cell to show the HTML representation or trust the notebook. <br />On GitHub, the HTML representation is unable to render, please try loading this page with nbviewer.org.</b></div><div class=\"sk-container\" hidden><div class=\"sk-item\"><div class=\"sk-estimator sk-toggleable\"><input class=\"sk-toggleable__control sk-hidden--visually\" id=\"sk-estimator-id-18\" type=\"checkbox\" checked><label for=\"sk-estimator-id-18\" class=\"sk-toggleable__label sk-toggleable__label-arrow\">XGBRegressor</label><div class=\"sk-toggleable__content\"><pre>XGBRegressor(base_score=None, booster=None, callbacks=None,\n",
       "             colsample_bylevel=None, colsample_bynode=None,\n",
       "             colsample_bytree=None, device=None, early_stopping_rounds=200,\n",
       "             enable_categorical=True, eval_metric=None,\n",
       "             eval_metrics=&lt;function mean_squared_error at 0x000002570CF907C0&gt;,\n",
       "             feature_types=None, gamma=None, grow_policy=None,\n",
       "             importance_type=None, interaction_constraints=None,\n",
       "             learning_rate=0.001, max_bin=None, max_cat_threshold=None,\n",
       "             max_cat_to_onehot=None, max_delta_step=None, max_depth=None,\n",
       "             max_leaves=None, min_child_weight=None, missing=nan,\n",
       "             monotone_constraints=None, multi_strategy=None, n_estimators=2500,\n",
       "             n_jobs=None, num_parallel_tree=None, ...)</pre></div></div></div></div></div>"
      ],
      "text/plain": [
       "XGBRegressor(base_score=None, booster=None, callbacks=None,\n",
       "             colsample_bylevel=None, colsample_bynode=None,\n",
       "             colsample_bytree=None, device=None, early_stopping_rounds=200,\n",
       "             enable_categorical=True, eval_metric=None,\n",
       "             eval_metrics=<function mean_squared_error at 0x000002570CF907C0>,\n",
       "             feature_types=None, gamma=None, grow_policy=None,\n",
       "             importance_type=None, interaction_constraints=None,\n",
       "             learning_rate=0.001, max_bin=None, max_cat_threshold=None,\n",
       "             max_cat_to_onehot=None, max_delta_step=None, max_depth=None,\n",
       "             max_leaves=None, min_child_weight=None, missing=nan,\n",
       "             monotone_constraints=None, multi_strategy=None, n_estimators=2500,\n",
       "             n_jobs=None, num_parallel_tree=None, ...)"
      ]
     },
     "execution_count": 46,
     "metadata": {},
     "output_type": "execute_result"
    }
   ],
   "source": [
    "xgb_reg = xgb.XGBRegressor(n_estimators = 2500,\n",
    "                           eval_metrics = mean_squared_error,\n",
    "                           enable_categorical = True,\n",
    "                           early_stopping_rounds = 200,\n",
    "                           learning_rate = 0.001,\n",
    "                           random_state = 244)\n",
    "xgb_reg.fit(X = X_train,\n",
    "            y = y_train,\n",
    "            eval_set = [(X_train, y_train), (X_test, y_test)],\n",
    "            verbose = 100)"
   ]
  },
  {
   "cell_type": "markdown",
   "metadata": {},
   "source": [
    "## 6.2 Predict"
   ]
  },
  {
   "cell_type": "code",
   "execution_count": 30,
   "metadata": {},
   "outputs": [],
   "source": [
    "# Predict for train and test\n",
    "y_train_pred = xgb_reg.predict(X_train)\n",
    "y_pred = xgb_reg.predict(X_test)\n",
    "\n",
    "# Calculate RMSE\n",
    "train_rmse = np.sqrt(mean_squared_error(y_true = y_train,\n",
    "                                      y_pred = y_train_pred))\n",
    "test_rmse = np.sqrt(mean_squared_error(y_true = y_test,\n",
    "                                       y_pred = y_pred))\n"
   ]
  },
  {
   "cell_type": "code",
   "execution_count": 31,
   "metadata": {},
   "outputs": [
    {
     "data": {
      "text/html": [
       "<div>\n",
       "<style scoped>\n",
       "    .dataframe tbody tr th:only-of-type {\n",
       "        vertical-align: middle;\n",
       "    }\n",
       "\n",
       "    .dataframe tbody tr th {\n",
       "        vertical-align: top;\n",
       "    }\n",
       "\n",
       "    .dataframe thead th {\n",
       "        text-align: right;\n",
       "    }\n",
       "</style>\n",
       "<table border=\"1\" class=\"dataframe\">\n",
       "  <thead>\n",
       "    <tr style=\"text-align: right;\">\n",
       "      <th></th>\n",
       "      <th>index</th>\n",
       "      <th>Year</th>\n",
       "      <th>Month</th>\n",
       "      <th>Day</th>\n",
       "      <th>DayOfWeek</th>\n",
       "      <th>WeekNumber</th>\n",
       "      <th>Quarter</th>\n",
       "      <th>Sales</th>\n",
       "      <th>prediction</th>\n",
       "      <th>Date</th>\n",
       "    </tr>\n",
       "  </thead>\n",
       "  <tbody>\n",
       "    <tr>\n",
       "      <th>0</th>\n",
       "      <td>871</td>\n",
       "      <td>2022</td>\n",
       "      <td>11</td>\n",
       "      <td>24</td>\n",
       "      <td>3</td>\n",
       "      <td>47</td>\n",
       "      <td>4</td>\n",
       "      <td>831.500000</td>\n",
       "      <td>940.626343</td>\n",
       "      <td>2022-11-24</td>\n",
       "    </tr>\n",
       "    <tr>\n",
       "      <th>1</th>\n",
       "      <td>872</td>\n",
       "      <td>2022</td>\n",
       "      <td>11</td>\n",
       "      <td>25</td>\n",
       "      <td>4</td>\n",
       "      <td>47</td>\n",
       "      <td>4</td>\n",
       "      <td>701.456055</td>\n",
       "      <td>940.626343</td>\n",
       "      <td>2022-11-25</td>\n",
       "    </tr>\n",
       "    <tr>\n",
       "      <th>2</th>\n",
       "      <td>873</td>\n",
       "      <td>2022</td>\n",
       "      <td>11</td>\n",
       "      <td>26</td>\n",
       "      <td>5</td>\n",
       "      <td>47</td>\n",
       "      <td>4</td>\n",
       "      <td>1096.865234</td>\n",
       "      <td>897.778748</td>\n",
       "      <td>2022-11-26</td>\n",
       "    </tr>\n",
       "    <tr>\n",
       "      <th>3</th>\n",
       "      <td>874</td>\n",
       "      <td>2022</td>\n",
       "      <td>11</td>\n",
       "      <td>27</td>\n",
       "      <td>6</td>\n",
       "      <td>47</td>\n",
       "      <td>4</td>\n",
       "      <td>123.971680</td>\n",
       "      <td>897.778748</td>\n",
       "      <td>2022-11-27</td>\n",
       "    </tr>\n",
       "    <tr>\n",
       "      <th>4</th>\n",
       "      <td>875</td>\n",
       "      <td>2022</td>\n",
       "      <td>11</td>\n",
       "      <td>28</td>\n",
       "      <td>0</td>\n",
       "      <td>48</td>\n",
       "      <td>4</td>\n",
       "      <td>104.101562</td>\n",
       "      <td>1322.460571</td>\n",
       "      <td>2022-11-28</td>\n",
       "    </tr>\n",
       "  </tbody>\n",
       "</table>\n",
       "</div>"
      ],
      "text/plain": [
       "   index  Year  Month  Day  DayOfWeek  WeekNumber  Quarter        Sales  \\\n",
       "0    871  2022     11   24          3          47        4   831.500000   \n",
       "1    872  2022     11   25          4          47        4   701.456055   \n",
       "2    873  2022     11   26          5          47        4  1096.865234   \n",
       "3    874  2022     11   27          6          47        4   123.971680   \n",
       "4    875  2022     11   28          0          48        4   104.101562   \n",
       "\n",
       "    prediction       Date  \n",
       "0   940.626343 2022-11-24  \n",
       "1   940.626343 2022-11-25  \n",
       "2   897.778748 2022-11-26  \n",
       "3   897.778748 2022-11-27  \n",
       "4  1322.460571 2022-11-28  "
      ]
     },
     "execution_count": 31,
     "metadata": {},
     "output_type": "execute_result"
    }
   ],
   "source": [
    "df_predict = test.reset_index().merge(pd.DataFrame(data = y_pred, columns = ['prediction']),\n",
    "                        how = 'left',\n",
    "                        left_index = True,\n",
    "                        right_index = True)\n",
    "df_predict['Date'] = pd.to_datetime(df_predict[['Year', 'Month', 'Day']])\n",
    "df_predict.head()"
   ]
  },
  {
   "cell_type": "markdown",
   "metadata": {},
   "source": [
    "# 7. Results"
   ]
  },
  {
   "cell_type": "code",
   "execution_count": 32,
   "metadata": {},
   "outputs": [
    {
     "name": "stdout",
     "output_type": "stream",
     "text": [
      "RMSE for Train: 372.34\n",
      "RMSE for Test: 394.50\n"
     ]
    },
    {
     "data": {
      "image/png": "[encoded data removed]",
      "text/plain": [
       "<Figure size 1000x500 with 1 Axes>"
      ]
     },
     "metadata": {},
     "output_type": "display_data"
    }
   ],
   "source": [
    "print(f'RMSE for Train: {train_rmse:.2f}')\n",
    "print(f'RMSE for Test: {test_rmse:.2f}')\n",
    "\n",
    "# Plot trend true label vs. prediction\n",
    "plt.figure(figsize = (10,5))\n",
    "sns.lineplot(data = df_predict.groupby('Date')['Sales'].sum(), label = 'True label')\n",
    "sns.lineplot(data = df_predict.groupby('Date')['prediction'].sum(), label = 'Prediction')\n",
    "plt.show()"
   ]
  },
  {
   "cell_type": "code",
   "execution_count": null,
   "metadata": {},
   "outputs": [],
   "source": []
  }
 ],
 "metadata": {
  "kernelspec": {
   "display_name": "Python 3 (ipykernel)",
   "language": "python",
   "name": "python3"
  },
  "language_info": {
   "codemirror_mode": {
    "name": "ipython",
    "version": 3
   },
   "file_extension": ".py",
   "mimetype": "text/x-python",
   "name": "python",
   "nbconvert_exporter": "python",
   "pygments_lexer": "ipython3",
   "version": "3.11.5"
  }
 },
 "nbformat": 4,
 "nbformat_minor": 2
}
