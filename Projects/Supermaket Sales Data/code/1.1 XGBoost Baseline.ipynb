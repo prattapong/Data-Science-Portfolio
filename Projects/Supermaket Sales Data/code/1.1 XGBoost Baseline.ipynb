{
 "cells": [
  {
   "cell_type": "markdown",
   "metadata": {},
   "source": [
    "# 1. Import libraries"
   ]
  },
  {
   "cell_type": "code",
   "execution_count": 2,
   "metadata": {},
   "outputs": [],
   "source": [
    "import numpy as np\n",
    "import pandas as pd\n",
    "import requests\n",
    "from io import StringIO\n",
    "import matplotlib.pyplot as plt\n",
    "import seaborn as sns\n",
    "from datetime import datetime as dt\n",
    "\n",
    "import xgboost as xgb\n",
    "from sklearn.model_selection import train_test_split, KFold\n",
    "from sklearn.metrics import mean_squared_error"
   ]
  },
  {
   "cell_type": "markdown",
   "metadata": {},
   "source": [
    "# 2. Load data"
   ]
  },
  {
   "cell_type": "code",
   "execution_count": 3,
   "metadata": {},
   "outputs": [],
   "source": [
    "# Define url path to CSV\n",
    "annex1 = 'https://raw.githubusercontent.com/prattapong/Data-Science-Portfolio/main/Projects/Supermaket%20Sales%20Data/data/annex1.csv'\n",
    "annex2 = 'https://raw.githubusercontent.com/prattapong/Data-Science-Portfolio/main/Projects/Supermaket%20Sales%20Data/data/annex2.csv'\n",
    "annex3 = 'https://raw.githubusercontent.com/prattapong/Data-Science-Portfolio/main/Projects/Supermaket%20Sales%20Data/data/annex3.csv'\n",
    "annex4 = 'https://raw.githubusercontent.com/prattapong/Data-Science-Portfolio/main/Projects/Supermaket%20Sales%20Data/data/annex4.csv'"
   ]
  },
  {
   "cell_type": "code",
   "execution_count": 4,
   "metadata": {},
   "outputs": [],
   "source": [
    "def get_df_from_url(url):\n",
    "    # Create request response\n",
    "    response = requests.get(url)\n",
    "\n",
    "    # Check if the request was successful (status code 200)\n",
    "    if response.status_code == 200:\n",
    "        # Create a file-like object from the raw content\n",
    "        csv_content = StringIO(response.text)\n",
    "\n",
    "        # Read the CSV file into a DataFrame\n",
    "        df = pd.read_csv(csv_content)\n",
    "\n",
    "        # Return DataFrame\n",
    "        return df\n",
    "    else:\n",
    "        print(f\"Failed to fetch data. Status code: {response.status_code}\")\n",
    "\n",
    "df_item = get_df_from_url(annex1)\n",
    "df_transaction = get_df_from_url(annex2)\n",
    "df_wholesale = get_df_from_url(annex3)\n",
    "df_loss = get_df_from_url(annex4)"
   ]
  },
  {
   "cell_type": "markdown",
   "metadata": {},
   "source": [
    "# 3. Merge and aggregate data"
   ]
  },
  {
   "cell_type": "code",
   "execution_count": 5,
   "metadata": {},
   "outputs": [],
   "source": [
    "def merge_all_df(df_transaction: pd.DataFrame = df_transaction,\n",
    "                 df_item: pd.DataFrame = df_item,\n",
    "                 df_wholesale: pd.DataFrame = df_wholesale,\n",
    "                 df_loss: pd.DataFrame = df_loss):\n",
    "\n",
    "    df_merge = df_transaction.merge(df_item,\n",
    "                                    how = 'left',\n",
    "                                    on = 'Item Code')\n",
    "    df_merge = df_merge.merge(df_wholesale,\n",
    "                            how = 'left',\n",
    "                            on = ['Date', 'Item Code'])\n",
    "    df_merge = df_merge.merge(df_loss.drop('Item Name', axis = 1),\n",
    "                            how = 'left',\n",
    "                            on = 'Item Code')\n",
    "    \n",
    "    return df_merge\n",
    "\n",
    "df_merge = merge_all_df()"
   ]
  },
  {
   "cell_type": "code",
   "execution_count": 6,
   "metadata": {},
   "outputs": [
    {
     "data": {
      "text/html": [
       "<div>\n",
       "<style scoped>\n",
       "    .dataframe tbody tr th:only-of-type {\n",
       "        vertical-align: middle;\n",
       "    }\n",
       "\n",
       "    .dataframe tbody tr th {\n",
       "        vertical-align: top;\n",
       "    }\n",
       "\n",
       "    .dataframe thead th {\n",
       "        text-align: right;\n",
       "    }\n",
       "</style>\n",
       "<table border=\"1\" class=\"dataframe\">\n",
       "  <thead>\n",
       "    <tr style=\"text-align: right;\">\n",
       "      <th></th>\n",
       "      <th>Date</th>\n",
       "      <th>Category Code</th>\n",
       "      <th>Item Code</th>\n",
       "      <th>Sales</th>\n",
       "    </tr>\n",
       "  </thead>\n",
       "  <tbody>\n",
       "    <tr>\n",
       "      <th>0</th>\n",
       "      <td>2020-07-01</td>\n",
       "      <td>1011010101</td>\n",
       "      <td>102900005115762</td>\n",
       "      <td>41.046</td>\n",
       "    </tr>\n",
       "    <tr>\n",
       "      <th>1</th>\n",
       "      <td>2020-07-01</td>\n",
       "      <td>1011010101</td>\n",
       "      <td>102900005115779</td>\n",
       "      <td>335.728</td>\n",
       "    </tr>\n",
       "    <tr>\n",
       "      <th>2</th>\n",
       "      <td>2020-07-01</td>\n",
       "      <td>1011010101</td>\n",
       "      <td>102900005115786</td>\n",
       "      <td>68.112</td>\n",
       "    </tr>\n",
       "    <tr>\n",
       "      <th>3</th>\n",
       "      <td>2020-07-01</td>\n",
       "      <td>1011010101</td>\n",
       "      <td>102900005115793</td>\n",
       "      <td>68.608</td>\n",
       "    </tr>\n",
       "    <tr>\n",
       "      <th>4</th>\n",
       "      <td>2020-07-01</td>\n",
       "      <td>1011010101</td>\n",
       "      <td>102900005115823</td>\n",
       "      <td>114.760</td>\n",
       "    </tr>\n",
       "  </tbody>\n",
       "</table>\n",
       "</div>"
      ],
      "text/plain": [
       "         Date  Category Code        Item Code    Sales\n",
       "0  2020-07-01     1011010101  102900005115762   41.046\n",
       "1  2020-07-01     1011010101  102900005115779  335.728\n",
       "2  2020-07-01     1011010101  102900005115786   68.112\n",
       "3  2020-07-01     1011010101  102900005115793   68.608\n",
       "4  2020-07-01     1011010101  102900005115823  114.760"
      ]
     },
     "execution_count": 6,
     "metadata": {},
     "output_type": "execute_result"
    }
   ],
   "source": [
    "# Create Sales column\n",
    "df_merge['Sales'] = df_merge['Unit Selling Price (RMB/kg)'] * df_merge['Quantity Sold (kilo)']\n",
    "\n",
    "# Aggregate as new table\n",
    "df_agg = df_merge.groupby(['Date', 'Category Code', 'Item Code'], as_index = False)['Sales'].sum()\n",
    "df_agg.head()"
   ]
  },
  {
   "cell_type": "markdown",
   "metadata": {},
   "source": [
    "# 4. Feature Engineering"
   ]
  },
  {
   "cell_type": "code",
   "execution_count": 7,
   "metadata": {},
   "outputs": [],
   "source": [
    "def create_date_feature(df: pd.DataFrame,\n",
    "                       date_column: str):\n",
    "    # Convert the 'Date' column to datetime type\n",
    "    df['Date'] = pd.to_datetime(df['Date'])\n",
    "\n",
    "    # Extract date components\n",
    "    df['Year'] = df['Date'].dt.year\n",
    "    df['Month'] = df['Date'].dt.month\n",
    "    df['Day'] = df['Date'].dt.day\n",
    "    df['DayOfWeek'] = df['Date'].dt.dayofweek  # Monday is 0 and Sunday is 6\n",
    "    df['WeekNumber'] = df['Date'].dt.isocalendar().week\n",
    "    df['Quarter'] = df['Date'].dt.quarter\n",
    "    \n",
    "    return df\n",
    "\n",
    "df_agg = create_date_feature(df = df_agg,\n",
    "                             date_column = 'Date')"
   ]
  },
  {
   "cell_type": "markdown",
   "metadata": {},
   "source": [
    "# 5. Data Preprocessing"
   ]
  },
  {
   "cell_type": "markdown",
   "metadata": {},
   "source": [
    "## 5.1 Change dtype"
   ]
  },
  {
   "cell_type": "code",
   "execution_count": 8,
   "metadata": {},
   "outputs": [],
   "source": [
    "def reduce_memory_usage(df: pd.DataFrame,\n",
    "                        categorical_columns: list = None):\n",
    "    start_memory = df.memory_usage().sum() / 1024**2\n",
    "\n",
    "    # Handle categorical columns\n",
    "    if categorical_columns is not None:\n",
    "        for col in categorical_columns:\n",
    "            df[col] = df[col].astype('category')\n",
    "    else:\n",
    "        pass\n",
    "    \n",
    "    for col in df.columns:\n",
    "        #  handle numerical features\n",
    "        if df[col].dtype.name != 'object' and df[col].dtype.name != 'category':\n",
    "            num_min = df[col].min()\n",
    "            num_max = df[col].max()\n",
    "        \n",
    "            # minimize int dtype bytes\n",
    "            if 'int' in df[col].dtype.name:\n",
    "                if num_min > np.iinfo(np.int8).min and num_max < np.iinfo(np.int8).max:\n",
    "                    df[col] = df[col].astype('int8')\n",
    "                elif num_min > np.iinfo(np.int16).min and num_max < np.iinfo(np.int16).max:\n",
    "                    df[col] = df[col].astype('int16')\n",
    "                elif num_min > np.iinfo(np.int32).min and num_max < np.iinfo(np.int32).max:\n",
    "                    df[col] = df[col].astype('int32')\n",
    "                else:\n",
    "                    df[col] = df[col].astype('int64')\n",
    "                    \n",
    "            # minimize float dtype bytes\n",
    "            elif 'float' in df[col].dtype.name:\n",
    "                if num_min > np.finfo(np.float16).min and num_max < np.finfo(np.float16).max:\n",
    "                    df[col] = df[col].astype('float16')\n",
    "                elif num_min > np.finfo(np.float32).min and num_max < np.finfo(np.float32).max:\n",
    "                    df[col] = df[col].astype('float32')\n",
    "                else:\n",
    "                    df[col] = df[col].astype('float64')\n",
    "        \n",
    "        # handle object columns\n",
    "        else:\n",
    "            df[col] = df[col].astype('category')\n",
    "\n",
    "    end_memory = df.memory_usage().sum() / 1024**2\n",
    "    print('Start Memory: {:.2f} MB\\nEnd Memory: {:.2f} MB'.format(start_memory, end_memory))\n",
    "    return df"
   ]
  },
  {
   "cell_type": "code",
   "execution_count": 9,
   "metadata": {},
   "outputs": [
    {
     "name": "stdout",
     "output_type": "stream",
     "text": [
      "Start Memory: 2.53 MB\n",
      "End Memory: 1.08 MB\n"
     ]
    },
    {
     "data": {
      "text/plain": [
       "Date             datetime64[ns]\n",
       "Category Code          category\n",
       "Item Code              category\n",
       "Sales                   float16\n",
       "Year                      int16\n",
       "Month                      int8\n",
       "Day                        int8\n",
       "DayOfWeek                  int8\n",
       "WeekNumber               UInt32\n",
       "Quarter                    int8\n",
       "dtype: object"
      ]
     },
     "execution_count": 9,
     "metadata": {},
     "output_type": "execute_result"
    }
   ],
   "source": [
    "categorical_columns = ['Category Code', 'Item Code']\n",
    "df_agg = reduce_memory_usage(df = df_agg,\n",
    "                             categorical_columns = categorical_columns)\n",
    "df_agg.dtypes"
   ]
  },
  {
   "cell_type": "markdown",
   "metadata": {},
   "source": [
    "## 5.2 Split train and test data"
   ]
  },
  {
   "cell_type": "code",
   "execution_count": 10,
   "metadata": {},
   "outputs": [
    {
     "name": "stdout",
     "output_type": "stream",
     "text": [
      "Train size: 37683 | 80.87%\n",
      "Test size: 8916 | 19.13%\n"
     ]
    }
   ],
   "source": [
    "def create_split_date(df: pd.DataFrame,\n",
    "                      date_column: str,\n",
    "                      train_size: float):\n",
    "    # Get max and min date of the dataset\n",
    "    max_date, min_date = dt.strptime(df['Date'].max(), '%Y-%m-%d'), dt.strptime(df['Date'].min(), '%Y-%m-%d')\n",
    "\n",
    "    # Calculate 80% of the date range for splitting\n",
    "    date_difference = max_date - min_date\n",
    "    train_split = (min_date + train_size * date_difference).date()\n",
    "    \n",
    "    return train_split\n",
    "\n",
    "def split_train_test_date(df: pd.DataFrame, split_date):\n",
    "    \"\"\"\n",
    "    Split train and test data based on date\n",
    "    \"\"\"\n",
    "\n",
    "    \"\"\" Args:\n",
    "    df: DataFrame to split\n",
    "    split_date: Date to split between train and test data\n",
    "    \"\"\"\n",
    "\n",
    "    \"\"\" Return:\n",
    "    train, test: pd.DataFrame\n",
    "    \"\"\"\n",
    "    \n",
    "    # Split train and test\n",
    "    train = df[df['Date'].dt.date <= train_split]\n",
    "    train = train.drop('Date', axis = 1)\n",
    "    test = df[df['Date'].dt.date > train_split]\n",
    "    test = test.drop('Date', axis = 1)\n",
    "\n",
    "    print(f'Train size: {train.shape[0]} | {(100 * train.shape[0]/df.shape[0]):.2f}%')\n",
    "    print(f'Test size: {test.shape[0]} | {(100 * test.shape[0]/df.shape[0]):.2f}%')\n",
    "\n",
    "    return train, test\n",
    "\n",
    "train_split = create_split_date(df = df_merge,\n",
    "                                date_column = 'Date',\n",
    "                                train_size = 0.8)\n",
    "\n",
    "train, test = split_train_test_date(df = df_agg,\n",
    "                                    split_date = train_split)\n"
   ]
  },
  {
   "cell_type": "code",
   "execution_count": 11,
   "metadata": {},
   "outputs": [],
   "source": [
    "X_train = train.drop('Sales', axis = 1)\n",
    "y_train = train[['Sales']]\n",
    "\n",
    "X_test = test.drop('Sales', axis = 1)\n",
    "y_test = test[['Sales']]"
   ]
  },
  {
   "cell_type": "markdown",
   "metadata": {},
   "source": [
    "# 6. Train and evaluate"
   ]
  },
  {
   "cell_type": "markdown",
   "metadata": {},
   "source": [
    "## 6.1 Train"
   ]
  },
  {
   "cell_type": "code",
   "execution_count": 12,
   "metadata": {},
   "outputs": [
    {
     "name": "stdout",
     "output_type": "stream",
     "text": [
      "[0]\tvalidation_0-rmse:111.00837\tvalidation_1-rmse:91.02361\n"
     ]
    },
    {
     "name": "stdout",
     "output_type": "stream",
     "text": [
      "[100]\tvalidation_0-rmse:106.99838\tvalidation_1-rmse:88.45494\n",
      "[200]\tvalidation_0-rmse:103.35387\tvalidation_1-rmse:86.21474\n",
      "[300]\tvalidation_0-rmse:100.02121\tvalidation_1-rmse:84.36822\n",
      "[400]\tvalidation_0-rmse:97.01028\tvalidation_1-rmse:82.82012\n",
      "[500]\tvalidation_0-rmse:94.26737\tvalidation_1-rmse:81.45424\n",
      "[600]\tvalidation_0-rmse:91.81131\tvalidation_1-rmse:80.28560\n",
      "[700]\tvalidation_0-rmse:89.59810\tvalidation_1-rmse:79.34732\n",
      "[800]\tvalidation_0-rmse:87.59645\tvalidation_1-rmse:78.56730\n",
      "[900]\tvalidation_0-rmse:85.75835\tvalidation_1-rmse:77.93032\n",
      "[1000]\tvalidation_0-rmse:84.07236\tvalidation_1-rmse:77.45254\n",
      "[1100]\tvalidation_0-rmse:82.52673\tvalidation_1-rmse:77.10343\n",
      "[1200]\tvalidation_0-rmse:81.06284\tvalidation_1-rmse:76.89527\n",
      "[1300]\tvalidation_0-rmse:79.71472\tvalidation_1-rmse:76.72770\n",
      "[1400]\tvalidation_0-rmse:78.44001\tvalidation_1-rmse:76.64362\n",
      "[1500]\tvalidation_0-rmse:77.17844\tvalidation_1-rmse:76.64260\n",
      "[1600]\tvalidation_0-rmse:76.04744\tvalidation_1-rmse:76.73888\n",
      "[1636]\tvalidation_0-rmse:75.65911\tvalidation_1-rmse:76.78577\n"
     ]
    },
    {
     "data": {
      "text/html": [
       "<style>#sk-container-id-1 {color: black;}#sk-container-id-1 pre{padding: 0;}#sk-container-id-1 div.sk-toggleable {background-color: white;}#sk-container-id-1 label.sk-toggleable__label {cursor: pointer;display: block;width: 100%;margin-bottom: 0;padding: 0.3em;box-sizing: border-box;text-align: center;}#sk-container-id-1 label.sk-toggleable__label-arrow:before {content: \"▸\";float: left;margin-right: 0.25em;color: #696969;}#sk-container-id-1 label.sk-toggleable__label-arrow:hover:before {color: black;}#sk-container-id-1 div.sk-estimator:hover label.sk-toggleable__label-arrow:before {color: black;}#sk-container-id-1 div.sk-toggleable__content {max-height: 0;max-width: 0;overflow: hidden;text-align: left;background-color: #f0f8ff;}#sk-container-id-1 div.sk-toggleable__content pre {margin: 0.2em;color: black;border-radius: 0.25em;background-color: #f0f8ff;}#sk-container-id-1 input.sk-toggleable__control:checked~div.sk-toggleable__content {max-height: 200px;max-width: 100%;overflow: auto;}#sk-container-id-1 input.sk-toggleable__control:checked~label.sk-toggleable__label-arrow:before {content: \"▾\";}#sk-container-id-1 div.sk-estimator input.sk-toggleable__control:checked~label.sk-toggleable__label {background-color: #d4ebff;}#sk-container-id-1 div.sk-label input.sk-toggleable__control:checked~label.sk-toggleable__label {background-color: #d4ebff;}#sk-container-id-1 input.sk-hidden--visually {border: 0;clip: rect(1px 1px 1px 1px);clip: rect(1px, 1px, 1px, 1px);height: 1px;margin: -1px;overflow: hidden;padding: 0;position: absolute;width: 1px;}#sk-container-id-1 div.sk-estimator {font-family: monospace;background-color: #f0f8ff;border: 1px dotted black;border-radius: 0.25em;box-sizing: border-box;margin-bottom: 0.5em;}#sk-container-id-1 div.sk-estimator:hover {background-color: #d4ebff;}#sk-container-id-1 div.sk-parallel-item::after {content: \"\";width: 100%;border-bottom: 1px solid gray;flex-grow: 1;}#sk-container-id-1 div.sk-label:hover label.sk-toggleable__label {background-color: #d4ebff;}#sk-container-id-1 div.sk-serial::before {content: \"\";position: absolute;border-left: 1px solid gray;box-sizing: border-box;top: 0;bottom: 0;left: 50%;z-index: 0;}#sk-container-id-1 div.sk-serial {display: flex;flex-direction: column;align-items: center;background-color: white;padding-right: 0.2em;padding-left: 0.2em;position: relative;}#sk-container-id-1 div.sk-item {position: relative;z-index: 1;}#sk-container-id-1 div.sk-parallel {display: flex;align-items: stretch;justify-content: center;background-color: white;position: relative;}#sk-container-id-1 div.sk-item::before, #sk-container-id-1 div.sk-parallel-item::before {content: \"\";position: absolute;border-left: 1px solid gray;box-sizing: border-box;top: 0;bottom: 0;left: 50%;z-index: -1;}#sk-container-id-1 div.sk-parallel-item {display: flex;flex-direction: column;z-index: 1;position: relative;background-color: white;}#sk-container-id-1 div.sk-parallel-item:first-child::after {align-self: flex-end;width: 50%;}#sk-container-id-1 div.sk-parallel-item:last-child::after {align-self: flex-start;width: 50%;}#sk-container-id-1 div.sk-parallel-item:only-child::after {width: 0;}#sk-container-id-1 div.sk-dashed-wrapped {border: 1px dashed gray;margin: 0 0.4em 0.5em 0.4em;box-sizing: border-box;padding-bottom: 0.4em;background-color: white;}#sk-container-id-1 div.sk-label label {font-family: monospace;font-weight: bold;display: inline-block;line-height: 1.2em;}#sk-container-id-1 div.sk-label-container {text-align: center;}#sk-container-id-1 div.sk-container {/* jupyter's `normalize.less` sets `[hidden] { display: none; }` but bootstrap.min.css set `[hidden] { display: none !important; }` so we also need the `!important` here to be able to override the default hidden behavior on the sphinx rendered scikit-learn.org. See: https://github.com/scikit-learn/scikit-learn/issues/21755 */display: inline-block !important;position: relative;}#sk-container-id-1 div.sk-text-repr-fallback {display: none;}</style><div id=\"sk-container-id-1\" class=\"sk-top-container\"><div class=\"sk-text-repr-fallback\"><pre>XGBRegressor(base_score=None, booster=None, callbacks=None,\n",
       "             colsample_bylevel=None, colsample_bynode=None,\n",
       "             colsample_bytree=None, device=None, early_stopping_rounds=200,\n",
       "             enable_categorical=True, eval_metric=None,\n",
       "             eval_metrics=&lt;function mean_squared_error at 0x000001C50F2CBF60&gt;,\n",
       "             feature_types=None, gamma=None, grow_policy=None,\n",
       "             importance_type=None, interaction_constraints=None,\n",
       "             learning_rate=0.0007, max_bin=None, max_cat_threshold=None,\n",
       "             max_cat_to_onehot=None, max_delta_step=None, max_depth=None,\n",
       "             max_leaves=None, min_child_weight=None, missing=nan,\n",
       "             monotone_constraints=None, multi_strategy=None, n_estimators=2500,\n",
       "             n_jobs=None, num_parallel_tree=None, ...)</pre><b>In a Jupyter environment, please rerun this cell to show the HTML representation or trust the notebook. <br />On GitHub, the HTML representation is unable to render, please try loading this page with nbviewer.org.</b></div><div class=\"sk-container\" hidden><div class=\"sk-item\"><div class=\"sk-estimator sk-toggleable\"><input class=\"sk-toggleable__control sk-hidden--visually\" id=\"sk-estimator-id-1\" type=\"checkbox\" checked><label for=\"sk-estimator-id-1\" class=\"sk-toggleable__label sk-toggleable__label-arrow\">XGBRegressor</label><div class=\"sk-toggleable__content\"><pre>XGBRegressor(base_score=None, booster=None, callbacks=None,\n",
       "             colsample_bylevel=None, colsample_bynode=None,\n",
       "             colsample_bytree=None, device=None, early_stopping_rounds=200,\n",
       "             enable_categorical=True, eval_metric=None,\n",
       "             eval_metrics=&lt;function mean_squared_error at 0x000001C50F2CBF60&gt;,\n",
       "             feature_types=None, gamma=None, grow_policy=None,\n",
       "             importance_type=None, interaction_constraints=None,\n",
       "             learning_rate=0.0007, max_bin=None, max_cat_threshold=None,\n",
       "             max_cat_to_onehot=None, max_delta_step=None, max_depth=None,\n",
       "             max_leaves=None, min_child_weight=None, missing=nan,\n",
       "             monotone_constraints=None, multi_strategy=None, n_estimators=2500,\n",
       "             n_jobs=None, num_parallel_tree=None, ...)</pre></div></div></div></div></div>"
      ],
      "text/plain": [
       "XGBRegressor(base_score=None, booster=None, callbacks=None,\n",
       "             colsample_bylevel=None, colsample_bynode=None,\n",
       "             colsample_bytree=None, device=None, early_stopping_rounds=200,\n",
       "             enable_categorical=True, eval_metric=None,\n",
       "             eval_metrics=<function mean_squared_error at 0x000001C50F2CBF60>,\n",
       "             feature_types=None, gamma=None, grow_policy=None,\n",
       "             importance_type=None, interaction_constraints=None,\n",
       "             learning_rate=0.0007, max_bin=None, max_cat_threshold=None,\n",
       "             max_cat_to_onehot=None, max_delta_step=None, max_depth=None,\n",
       "             max_leaves=None, min_child_weight=None, missing=nan,\n",
       "             monotone_constraints=None, multi_strategy=None, n_estimators=2500,\n",
       "             n_jobs=None, num_parallel_tree=None, ...)"
      ]
     },
     "execution_count": 12,
     "metadata": {},
     "output_type": "execute_result"
    }
   ],
   "source": [
    "xgb_reg = xgb.XGBRegressor(n_estimators = 2500,\n",
    "                           eval_metrics = mean_squared_error,\n",
    "                           enable_categorical = True,\n",
    "                           early_stopping_rounds = 200,\n",
    "                           learning_rate = 0.0007,\n",
    "                           random_state = 244)\n",
    "xgb_reg.fit(X = X_train,\n",
    "            y = y_train,\n",
    "            eval_set = [(X_train, y_train), (X_test, y_test)],\n",
    "            verbose = 100)"
   ]
  },
  {
   "cell_type": "markdown",
   "metadata": {},
   "source": [
    "## 6.2 Predict"
   ]
  },
  {
   "cell_type": "code",
   "execution_count": 13,
   "metadata": {},
   "outputs": [
    {
     "data": {
      "text/plain": [
       "array([55.208763, 58.29615 , 55.38967 , ..., 65.44664 , 75.8967  ,\n",
       "       45.589233], dtype=float32)"
      ]
     },
     "execution_count": 13,
     "metadata": {},
     "output_type": "execute_result"
    }
   ],
   "source": [
    "# Predict for train and test\n",
    "y_train_pred = xgb_reg.predict(X_train)\n",
    "y_pred = xgb_reg.predict(X_test)\n",
    "\n",
    "# Calculate RMSE\n",
    "train_rmse = np.sqrt(mean_squared_error(y_true = y_train,\n",
    "                                      y_pred = y_train_pred))\n",
    "test_rmse = np.sqrt(mean_squared_error(y_true = y_test,\n",
    "                                       y_pred = y_pred))"
   ]
  },
  {
   "cell_type": "code",
   "execution_count": 34,
   "metadata": {},
   "outputs": [
    {
     "data": {
      "text/html": [
       "<div>\n",
       "<style scoped>\n",
       "    .dataframe tbody tr th:only-of-type {\n",
       "        vertical-align: middle;\n",
       "    }\n",
       "\n",
       "    .dataframe tbody tr th {\n",
       "        vertical-align: top;\n",
       "    }\n",
       "\n",
       "    .dataframe thead th {\n",
       "        text-align: right;\n",
       "    }\n",
       "</style>\n",
       "<table border=\"1\" class=\"dataframe\">\n",
       "  <thead>\n",
       "    <tr style=\"text-align: right;\">\n",
       "      <th></th>\n",
       "      <th>index</th>\n",
       "      <th>Category Code</th>\n",
       "      <th>Item Code</th>\n",
       "      <th>Sales</th>\n",
       "      <th>Year</th>\n",
       "      <th>Month</th>\n",
       "      <th>Day</th>\n",
       "      <th>DayOfWeek</th>\n",
       "      <th>WeekNumber</th>\n",
       "      <th>Quarter</th>\n",
       "      <th>prediction</th>\n",
       "      <th>Date</th>\n",
       "    </tr>\n",
       "  </thead>\n",
       "  <tbody>\n",
       "    <tr>\n",
       "      <th>0</th>\n",
       "      <td>37683</td>\n",
       "      <td>1011010101</td>\n",
       "      <td>102900005115878</td>\n",
       "      <td>50.406250</td>\n",
       "      <td>2022</td>\n",
       "      <td>11</td>\n",
       "      <td>24</td>\n",
       "      <td>3</td>\n",
       "      <td>47</td>\n",
       "      <td>4</td>\n",
       "      <td>55.208763</td>\n",
       "      <td>2022-11-24</td>\n",
       "    </tr>\n",
       "    <tr>\n",
       "      <th>1</th>\n",
       "      <td>37684</td>\n",
       "      <td>1011010101</td>\n",
       "      <td>102900005118817</td>\n",
       "      <td>12.664062</td>\n",
       "      <td>2022</td>\n",
       "      <td>11</td>\n",
       "      <td>24</td>\n",
       "      <td>3</td>\n",
       "      <td>47</td>\n",
       "      <td>4</td>\n",
       "      <td>58.296150</td>\n",
       "      <td>2022-11-24</td>\n",
       "    </tr>\n",
       "    <tr>\n",
       "      <th>2</th>\n",
       "      <td>37685</td>\n",
       "      <td>1011010101</td>\n",
       "      <td>102900005118831</td>\n",
       "      <td>80.500000</td>\n",
       "      <td>2022</td>\n",
       "      <td>11</td>\n",
       "      <td>24</td>\n",
       "      <td>3</td>\n",
       "      <td>47</td>\n",
       "      <td>4</td>\n",
       "      <td>55.389671</td>\n",
       "      <td>2022-11-24</td>\n",
       "    </tr>\n",
       "    <tr>\n",
       "      <th>3</th>\n",
       "      <td>37686</td>\n",
       "      <td>1011010101</td>\n",
       "      <td>102900005122654</td>\n",
       "      <td>21.468750</td>\n",
       "      <td>2022</td>\n",
       "      <td>11</td>\n",
       "      <td>24</td>\n",
       "      <td>3</td>\n",
       "      <td>47</td>\n",
       "      <td>4</td>\n",
       "      <td>55.882103</td>\n",
       "      <td>2022-11-24</td>\n",
       "    </tr>\n",
       "    <tr>\n",
       "      <th>4</th>\n",
       "      <td>37687</td>\n",
       "      <td>1011010101</td>\n",
       "      <td>102900011000571</td>\n",
       "      <td>21.531250</td>\n",
       "      <td>2022</td>\n",
       "      <td>11</td>\n",
       "      <td>24</td>\n",
       "      <td>3</td>\n",
       "      <td>47</td>\n",
       "      <td>4</td>\n",
       "      <td>37.248474</td>\n",
       "      <td>2022-11-24</td>\n",
       "    </tr>\n",
       "  </tbody>\n",
       "</table>\n",
       "</div>"
      ],
      "text/plain": [
       "   index Category Code        Item Code      Sales  Year  Month  Day  \\\n",
       "0  37683    1011010101  102900005115878  50.406250  2022     11   24   \n",
       "1  37684    1011010101  102900005118817  12.664062  2022     11   24   \n",
       "2  37685    1011010101  102900005118831  80.500000  2022     11   24   \n",
       "3  37686    1011010101  102900005122654  21.468750  2022     11   24   \n",
       "4  37687    1011010101  102900011000571  21.531250  2022     11   24   \n",
       "\n",
       "   DayOfWeek  WeekNumber  Quarter  prediction       Date  \n",
       "0          3          47        4   55.208763 2022-11-24  \n",
       "1          3          47        4   58.296150 2022-11-24  \n",
       "2          3          47        4   55.389671 2022-11-24  \n",
       "3          3          47        4   55.882103 2022-11-24  \n",
       "4          3          47        4   37.248474 2022-11-24  "
      ]
     },
     "execution_count": 34,
     "metadata": {},
     "output_type": "execute_result"
    }
   ],
   "source": [
    "df_predict = test.reset_index().merge(pd.DataFrame(data = y_pred, columns = ['prediction']),\n",
    "                        how = 'left',\n",
    "                        left_index = True,\n",
    "                        right_index = True)\n",
    "df_predict['Date'] = pd.to_datetime(df_predict[['Year', 'Month', 'Day']])\n",
    "df_predict.head()"
   ]
  },
  {
   "cell_type": "markdown",
   "metadata": {},
   "source": [
    "# 7. Results"
   ]
  },
  {
   "cell_type": "code",
   "execution_count": 15,
   "metadata": {},
   "outputs": [
    {
     "name": "stdout",
     "output_type": "stream",
     "text": [
      "RMSE for Train: 77.98\n",
      "RMSE for Test: 76.63\n"
     ]
    },
    {
     "data": {
      "image/png": "[encoded data removed]",
      "text/plain": [
       "<Figure size 1000x500 with 1 Axes>"
      ]
     },
     "metadata": {},
     "output_type": "display_data"
    }
   ],
   "source": [
    "print(f'RMSE for Train: {train_rmse:.2f}')\n",
    "print(f'RMSE for Test: {test_rmse:.2f}')\n",
    "\n",
    "# Plot trend true label vs. prediction\n",
    "plt.figure(figsize = (10,5))\n",
    "sns.lineplot(data = df_predict.groupby('Date')['Sales'].sum(), label = 'True label')\n",
    "sns.lineplot(data = df_predict.groupby('Date')['prediction'].sum(), label = 'Prediction')\n",
    "plt.show()"
   ]
  },
  {
   "cell_type": "code",
   "execution_count": 16,
   "metadata": {},
   "outputs": [
    {
     "name": "stdout",
     "output_type": "stream",
     "text": [
      "RMSE: 312.64\n"
     ]
    }
   ],
   "source": [
    "# Since our purpose is to predict Time-series on Sales for each category, we measure RMSE in Category data point\n",
    "df_predict_agg = df_predict.groupby(['Date','Category Code'], as_index = False)[['Sales','prediction']].sum()\n",
    "rmse = np.sqrt(mean_squared_error(y_true = df_predict_agg['Sales'],\n",
    "                                  y_pred = df_predict_agg['prediction']))\n",
    "print(f'RMSE: {rmse:.2f}')"
   ]
  }
 ],
 "metadata": {
  "kernelspec": {
   "display_name": "Python 3 (ipykernel)",
   "language": "python",
   "name": "python3"
  },
  "language_info": {
   "codemirror_mode": {
    "name": "ipython",
    "version": 3
   },
   "file_extension": ".py",
   "mimetype": "text/x-python",
   "name": "python",
   "nbconvert_exporter": "python",
   "pygments_lexer": "ipython3",
   "version": "3.11.5"
  }
 },
 "nbformat": 4,
 "nbformat_minor": 2
}
