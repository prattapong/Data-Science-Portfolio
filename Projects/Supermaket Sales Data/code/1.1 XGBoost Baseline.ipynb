{
 "cells": [
  {
   "cell_type": "markdown",
   "metadata": {},
   "source": [
    "# 1. Import libraries"
   ]
  },
  {
   "cell_type": "code",
   "execution_count": 2,
   "metadata": {},
   "outputs": [],
   "source": [
    "import numpy as np\n",
    "import pandas as pd\n",
    "import requests\n",
    "from io import StringIO\n",
    "import matplotlib.pyplot as plt\n",
    "import seaborn as sns\n",
    "from datetime import datetime as dt\n",
    "\n",
    "import xgboost as xgb\n",
    "from sklearn.model_selection import train_test_split, KFold\n",
    "from sklearn.metrics import mean_squared_error"
   ]
  },
  {
   "cell_type": "markdown",
   "metadata": {},
   "source": [
    "# 2. Load data"
   ]
  },
  {
   "cell_type": "code",
   "execution_count": 3,
   "metadata": {},
   "outputs": [],
   "source": [
    "# Define url path to CSV\n",
    "annex1 = 'https://raw.githubusercontent.com/prattapong/Data-Science-Portfolio/main/Projects/Supermaket%20Sales%20Data/data/annex1.csv'\n",
    "annex2 = 'https://raw.githubusercontent.com/prattapong/Data-Science-Portfolio/main/Projects/Supermaket%20Sales%20Data/data/annex2.csv'\n",
    "annex3 = 'https://raw.githubusercontent.com/prattapong/Data-Science-Portfolio/main/Projects/Supermaket%20Sales%20Data/data/annex3.csv'\n",
    "annex4 = 'https://raw.githubusercontent.com/prattapong/Data-Science-Portfolio/main/Projects/Supermaket%20Sales%20Data/data/annex4.csv'"
   ]
  },
  {
   "cell_type": "code",
   "execution_count": 4,
   "metadata": {},
   "outputs": [],
   "source": [
    "def get_df_from_url(url):\n",
    "    # Create request response\n",
    "    response = requests.get(url)\n",
    "\n",
    "    # Check if the request was successful (status code 200)\n",
    "    if response.status_code == 200:\n",
    "        # Create a file-like object from the raw content\n",
    "        csv_content = StringIO(response.text)\n",
    "\n",
    "        # Read the CSV file into a DataFrame\n",
    "        df = pd.read_csv(csv_content)\n",
    "\n",
    "        # Return DataFrame\n",
    "        return df\n",
    "    else:\n",
    "        print(f\"Failed to fetch data. Status code: {response.status_code}\")\n",
    "\n",
    "df_item = get_df_from_url(annex1)\n",
    "df_transaction = get_df_from_url(annex2)\n",
    "df_wholesale = get_df_from_url(annex3)\n",
    "df_loss = get_df_from_url(annex4)"
   ]
  },
  {
   "cell_type": "markdown",
   "metadata": {},
   "source": [
    "# 3. Merge and aggregate data"
   ]
  },
  {
   "cell_type": "code",
   "execution_count": 5,
   "metadata": {},
   "outputs": [],
   "source": [
    "def merge_all_df(df_transaction: pd.DataFrame = df_transaction,\n",
    "                 df_item: pd.DataFrame = df_item,\n",
    "                 df_wholesale: pd.DataFrame = df_wholesale,\n",
    "                 df_loss: pd.DataFrame = df_loss):\n",
    "\n",
    "    df_merge = df_transaction.merge(df_item,\n",
    "                                    how = 'left',\n",
    "                                    on = 'Item Code')\n",
    "    df_merge = df_merge.merge(df_wholesale,\n",
    "                            how = 'left',\n",
    "                            on = ['Date', 'Item Code'])\n",
    "    df_merge = df_merge.merge(df_loss.drop('Item Name', axis = 1),\n",
    "                            how = 'left',\n",
    "                            on = 'Item Code')\n",
    "    \n",
    "    return df_merge\n",
    "\n",
    "df_merge = merge_all_df()"
   ]
  },
  {
   "cell_type": "code",
   "execution_count": 6,
   "metadata": {},
   "outputs": [
    {
     "data": {
      "text/html": [
       "<div>\n",
       "<style scoped>\n",
       "    .dataframe tbody tr th:only-of-type {\n",
       "        vertical-align: middle;\n",
       "    }\n",
       "\n",
       "    .dataframe tbody tr th {\n",
       "        vertical-align: top;\n",
       "    }\n",
       "\n",
       "    .dataframe thead th {\n",
       "        text-align: right;\n",
       "    }\n",
       "</style>\n",
       "<table border=\"1\" class=\"dataframe\">\n",
       "  <thead>\n",
       "    <tr style=\"text-align: right;\">\n",
       "      <th></th>\n",
       "      <th>Date</th>\n",
       "      <th>Category Code</th>\n",
       "      <th>Item Code</th>\n",
       "      <th>Sales</th>\n",
       "    </tr>\n",
       "  </thead>\n",
       "  <tbody>\n",
       "    <tr>\n",
       "      <th>0</th>\n",
       "      <td>2020-07-01</td>\n",
       "      <td>1011010101</td>\n",
       "      <td>102900005115762</td>\n",
       "      <td>41.046</td>\n",
       "    </tr>\n",
       "    <tr>\n",
       "      <th>1</th>\n",
       "      <td>2020-07-01</td>\n",
       "      <td>1011010101</td>\n",
       "      <td>102900005115779</td>\n",
       "      <td>335.728</td>\n",
       "    </tr>\n",
       "    <tr>\n",
       "      <th>2</th>\n",
       "      <td>2020-07-01</td>\n",
       "      <td>1011010101</td>\n",
       "      <td>102900005115786</td>\n",
       "      <td>68.112</td>\n",
       "    </tr>\n",
       "    <tr>\n",
       "      <th>3</th>\n",
       "      <td>2020-07-01</td>\n",
       "      <td>1011010101</td>\n",
       "      <td>102900005115793</td>\n",
       "      <td>68.608</td>\n",
       "    </tr>\n",
       "    <tr>\n",
       "      <th>4</th>\n",
       "      <td>2020-07-01</td>\n",
       "      <td>1011010101</td>\n",
       "      <td>102900005115823</td>\n",
       "      <td>114.760</td>\n",
       "    </tr>\n",
       "  </tbody>\n",
       "</table>\n",
       "</div>"
      ],
      "text/plain": [
       "         Date  Category Code        Item Code    Sales\n",
       "0  2020-07-01     1011010101  102900005115762   41.046\n",
       "1  2020-07-01     1011010101  102900005115779  335.728\n",
       "2  2020-07-01     1011010101  102900005115786   68.112\n",
       "3  2020-07-01     1011010101  102900005115793   68.608\n",
       "4  2020-07-01     1011010101  102900005115823  114.760"
      ]
     },
     "execution_count": 6,
     "metadata": {},
     "output_type": "execute_result"
    }
   ],
   "source": [
    "# Create Sales column\n",
    "df_merge['Sales'] = df_merge['Unit Selling Price (RMB/kg)'] * df_merge['Quantity Sold (kilo)']\n",
    "\n",
    "# Aggregate as new table\n",
    "df_agg = df_merge.groupby(['Date', 'Category Code', 'Item Code'], as_index = False)['Sales'].sum()\n",
    "df_agg.head()"
   ]
  },
  {
   "cell_type": "markdown",
   "metadata": {},
   "source": [
    "# 4. Feature Engineering"
   ]
  },
  {
   "cell_type": "code",
   "execution_count": 7,
   "metadata": {},
   "outputs": [],
   "source": [
    "def create_date_feature(df: pd.DataFrame,\n",
    "                       date_column: str):\n",
    "    # Convert the 'Date' column to datetime type\n",
    "    df['Date'] = pd.to_datetime(df['Date'])\n",
    "\n",
    "    # Extract date components\n",
    "    df['Year'] = df['Date'].dt.year\n",
    "    df['Month'] = df['Date'].dt.month\n",
    "    df['Day'] = df['Date'].dt.day\n",
    "    df['DayOfWeek'] = df['Date'].dt.dayofweek  # Monday is 0 and Sunday is 6\n",
    "    df['WeekNumber'] = df['Date'].dt.isocalendar().week\n",
    "    df['Quarter'] = df['Date'].dt.quarter\n",
    "    \n",
    "    return df\n",
    "\n",
    "df_agg = create_date_feature(df = df_agg,\n",
    "                             date_column = 'Date')"
   ]
  },
  {
   "cell_type": "markdown",
   "metadata": {},
   "source": [
    "# 5. Data Preprocessing"
   ]
  },
  {
   "cell_type": "markdown",
   "metadata": {},
   "source": [
    "## 5.1 Change dtype"
   ]
  },
  {
   "cell_type": "code",
   "execution_count": 8,
   "metadata": {},
   "outputs": [],
   "source": [
    "def reduce_memory_usage(df: pd.DataFrame,\n",
    "                        categorical_columns: list = None):\n",
    "    start_memory = df.memory_usage().sum() / 1024**2\n",
    "\n",
    "    # Handle categorical columns\n",
    "    if categorical_columns is not None:\n",
    "        for col in categorical_columns:\n",
    "            df[col] = df[col].astype('category')\n",
    "    else:\n",
    "        pass\n",
    "    \n",
    "    for col in df.columns:\n",
    "        #  handle numerical features\n",
    "        if df[col].dtype.name != 'object' and df[col].dtype.name != 'category':\n",
    "            num_min = df[col].min()\n",
    "            num_max = df[col].max()\n",
    "        \n",
    "            # minimize int dtype bytes\n",
    "            if 'int' in df[col].dtype.name:\n",
    "                if num_min > np.iinfo(np.int8).min and num_max < np.iinfo(np.int8).max:\n",
    "                    df[col] = df[col].astype('int8')\n",
    "                elif num_min > np.iinfo(np.int16).min and num_max < np.iinfo(np.int16).max:\n",
    "                    df[col] = df[col].astype('int16')\n",
    "                elif num_min > np.iinfo(np.int32).min and num_max < np.iinfo(np.int32).max:\n",
    "                    df[col] = df[col].astype('int32')\n",
    "                else:\n",
    "                    df[col] = df[col].astype('int64')\n",
    "                    \n",
    "            # minimize float dtype bytes\n",
    "            elif 'float' in df[col].dtype.name:\n",
    "                if num_min > np.finfo(np.float16).min and num_max < np.finfo(np.float16).max:\n",
    "                    df[col] = df[col].astype('float16')\n",
    "                elif num_min > np.finfo(np.float32).min and num_max < np.finfo(np.float32).max:\n",
    "                    df[col] = df[col].astype('float32')\n",
    "                else:\n",
    "                    df[col] = df[col].astype('float64')\n",
    "        \n",
    "        # handle object columns\n",
    "        else:\n",
    "            df[col] = df[col].astype('category')\n",
    "\n",
    "    end_memory = df.memory_usage().sum() / 1024**2\n",
    "    print('Start Memory: {:.2f} MB\\nEnd Memory: {:.2f} MB'.format(start_memory, end_memory))\n",
    "    return df"
   ]
  },
  {
   "cell_type": "code",
   "execution_count": 9,
   "metadata": {},
   "outputs": [
    {
     "name": "stdout",
     "output_type": "stream",
     "text": [
      "Start Memory: 2.53 MB\n",
      "End Memory: 1.08 MB\n"
     ]
    },
    {
     "data": {
      "text/plain": [
       "Date             datetime64[ns]\n",
       "Category Code          category\n",
       "Item Code              category\n",
       "Sales                   float16\n",
       "Year                      int16\n",
       "Month                      int8\n",
       "Day                        int8\n",
       "DayOfWeek                  int8\n",
       "WeekNumber               UInt32\n",
       "Quarter                    int8\n",
       "dtype: object"
      ]
     },
     "execution_count": 9,
     "metadata": {},
     "output_type": "execute_result"
    }
   ],
   "source": [
    "categorical_columns = ['Category Code', 'Item Code']\n",
    "df_agg = reduce_memory_usage(df = df_agg,\n",
    "                             categorical_columns = categorical_columns)\n",
    "df_agg.dtypes"
   ]
  },
  {
   "cell_type": "markdown",
   "metadata": {},
   "source": [
    "## 5.2 Split train and test data"
   ]
  },
  {
   "cell_type": "code",
   "execution_count": 20,
   "metadata": {},
   "outputs": [
    {
     "name": "stdout",
     "output_type": "stream",
     "text": [
      "Train size: 37683 | 80.87%\n",
      "Test size: 8916 | 19.13%\n"
     ]
    }
   ],
   "source": [
    "def create_split_date(df: pd.DataFrame,\n",
    "                      date_column: str,\n",
    "                      train_size: float):\n",
    "    # Get max and min date of the dataset\n",
    "    max_date, min_date = dt.strptime(df['Date'].max(), '%Y-%m-%d'), dt.strptime(df['Date'].min(), '%Y-%m-%d')\n",
    "\n",
    "    # Calculate 80% of the date range for splitting\n",
    "    date_difference = max_date - min_date\n",
    "    train_split = (min_date + train_size * date_difference).date()\n",
    "    \n",
    "    return train_split\n",
    "\n",
    "def split_train_test_date(df: pd.DataFrame, split_date):\n",
    "    \"\"\"\n",
    "    Split train and test data based on date\n",
    "    \"\"\"\n",
    "\n",
    "    \"\"\" Args:\n",
    "    df: DataFrame to split\n",
    "    split_date: Date to split between train and test data\n",
    "    \"\"\"\n",
    "\n",
    "    \"\"\" Return:\n",
    "    train, test: pd.DataFrame\n",
    "    \"\"\"\n",
    "    \n",
    "    # Split train and test\n",
    "    train = df[df['Date'].dt.date <= train_split]\n",
    "    train = train.drop('Date', axis = 1)\n",
    "    test = df[df['Date'].dt.date > train_split]\n",
    "    test = test.drop('Date', axis = 1)\n",
    "\n",
    "    print(f'Train size: {train.shape[0]} | {(100 * train.shape[0]/df.shape[0]):.2f}%')\n",
    "    print(f'Test size: {test.shape[0]} | {(100 * test.shape[0]/df.shape[0]):.2f}%')\n",
    "\n",
    "    return train, test\n",
    "\n",
    "train_split = create_split_date(df = df_merge,\n",
    "                                date_column = 'Date',\n",
    "                                train_size = 0.8)\n",
    "\n",
    "train, test = split_train_test_date(df = df_agg,\n",
    "                                    split_date = train_split)\n"
   ]
  },
  {
   "cell_type": "code",
   "execution_count": 21,
   "metadata": {},
   "outputs": [],
   "source": [
    "X_train = train.drop('Sales', axis = 1)\n",
    "y_train = train[['Sales']]\n",
    "\n",
    "X_test = test.drop('Sales', axis = 1)\n",
    "y_test = test[['Sales']]"
   ]
  },
  {
   "cell_type": "markdown",
   "metadata": {},
   "source": [
    "# 6. Train and evaluate"
   ]
  },
  {
   "cell_type": "code",
   "execution_count": 47,
   "metadata": {},
   "outputs": [
    {
     "name": "stdout",
     "output_type": "stream",
     "text": [
      "[0]\tvalidation_0-rmse:110.99025\tvalidation_1-rmse:91.01179\n"
     ]
    },
    {
     "name": "stderr",
     "output_type": "stream",
     "text": [
      "/usr/local/python/3.10.13/lib/python3.10/site-packages/xgboost/core.py:160: UserWarning: [07:13:26] WARNING: /workspace/src/context.cc:44: No visible GPU is found, setting device to CPU.\n",
      "  warnings.warn(smsg, UserWarning)\n"
     ]
    },
    {
     "name": "stdout",
     "output_type": "stream",
     "text": [
      "[100]\tvalidation_0-rmse:105.38404\tvalidation_1-rmse:87.43920\n",
      "[200]\tvalidation_0-rmse:100.46308\tvalidation_1-rmse:84.59757\n",
      "[300]\tvalidation_0-rmse:96.18398\tvalidation_1-rmse:82.40125\n",
      "[400]\tvalidation_0-rmse:92.47602\tvalidation_1-rmse:80.59394\n",
      "[500]\tvalidation_0-rmse:89.29173\tvalidation_1-rmse:79.22701\n",
      "[600]\tvalidation_0-rmse:86.52246\tvalidation_1-rmse:78.18809\n",
      "[700]\tvalidation_0-rmse:84.06549\tvalidation_1-rmse:77.45937\n",
      "[800]\tvalidation_0-rmse:81.87469\tvalidation_1-rmse:77.02858\n",
      "[900]\tvalidation_0-rmse:79.88728\tvalidation_1-rmse:76.79610\n",
      "[1000]\tvalidation_0-rmse:78.11619\tvalidation_1-rmse:76.71547\n",
      "[1100]\tvalidation_0-rmse:76.38084\tvalidation_1-rmse:76.77194\n",
      "[1200]\tvalidation_0-rmse:74.87174\tvalidation_1-rmse:76.98030\n",
      "[1215]\tvalidation_0-rmse:74.65890\tvalidation_1-rmse:77.01756\n"
     ]
    },
    {
     "data": {
      "text/html": [
       "<style>#sk-container-id-14 {color: black;}#sk-container-id-14 pre{padding: 0;}#sk-container-id-14 div.sk-toggleable {background-color: white;}#sk-container-id-14 label.sk-toggleable__label {cursor: pointer;display: block;width: 100%;margin-bottom: 0;padding: 0.3em;box-sizing: border-box;text-align: center;}#sk-container-id-14 label.sk-toggleable__label-arrow:before {content: \"▸\";float: left;margin-right: 0.25em;color: #696969;}#sk-container-id-14 label.sk-toggleable__label-arrow:hover:before {color: black;}#sk-container-id-14 div.sk-estimator:hover label.sk-toggleable__label-arrow:before {color: black;}#sk-container-id-14 div.sk-toggleable__content {max-height: 0;max-width: 0;overflow: hidden;text-align: left;background-color: #f0f8ff;}#sk-container-id-14 div.sk-toggleable__content pre {margin: 0.2em;color: black;border-radius: 0.25em;background-color: #f0f8ff;}#sk-container-id-14 input.sk-toggleable__control:checked~div.sk-toggleable__content {max-height: 200px;max-width: 100%;overflow: auto;}#sk-container-id-14 input.sk-toggleable__control:checked~label.sk-toggleable__label-arrow:before {content: \"▾\";}#sk-container-id-14 div.sk-estimator input.sk-toggleable__control:checked~label.sk-toggleable__label {background-color: #d4ebff;}#sk-container-id-14 div.sk-label input.sk-toggleable__control:checked~label.sk-toggleable__label {background-color: #d4ebff;}#sk-container-id-14 input.sk-hidden--visually {border: 0;clip: rect(1px 1px 1px 1px);clip: rect(1px, 1px, 1px, 1px);height: 1px;margin: -1px;overflow: hidden;padding: 0;position: absolute;width: 1px;}#sk-container-id-14 div.sk-estimator {font-family: monospace;background-color: #f0f8ff;border: 1px dotted black;border-radius: 0.25em;box-sizing: border-box;margin-bottom: 0.5em;}#sk-container-id-14 div.sk-estimator:hover {background-color: #d4ebff;}#sk-container-id-14 div.sk-parallel-item::after {content: \"\";width: 100%;border-bottom: 1px solid gray;flex-grow: 1;}#sk-container-id-14 div.sk-label:hover label.sk-toggleable__label {background-color: #d4ebff;}#sk-container-id-14 div.sk-serial::before {content: \"\";position: absolute;border-left: 1px solid gray;box-sizing: border-box;top: 0;bottom: 0;left: 50%;z-index: 0;}#sk-container-id-14 div.sk-serial {display: flex;flex-direction: column;align-items: center;background-color: white;padding-right: 0.2em;padding-left: 0.2em;position: relative;}#sk-container-id-14 div.sk-item {position: relative;z-index: 1;}#sk-container-id-14 div.sk-parallel {display: flex;align-items: stretch;justify-content: center;background-color: white;position: relative;}#sk-container-id-14 div.sk-item::before, #sk-container-id-14 div.sk-parallel-item::before {content: \"\";position: absolute;border-left: 1px solid gray;box-sizing: border-box;top: 0;bottom: 0;left: 50%;z-index: -1;}#sk-container-id-14 div.sk-parallel-item {display: flex;flex-direction: column;z-index: 1;position: relative;background-color: white;}#sk-container-id-14 div.sk-parallel-item:first-child::after {align-self: flex-end;width: 50%;}#sk-container-id-14 div.sk-parallel-item:last-child::after {align-self: flex-start;width: 50%;}#sk-container-id-14 div.sk-parallel-item:only-child::after {width: 0;}#sk-container-id-14 div.sk-dashed-wrapped {border: 1px dashed gray;margin: 0 0.4em 0.5em 0.4em;box-sizing: border-box;padding-bottom: 0.4em;background-color: white;}#sk-container-id-14 div.sk-label label {font-family: monospace;font-weight: bold;display: inline-block;line-height: 1.2em;}#sk-container-id-14 div.sk-label-container {text-align: center;}#sk-container-id-14 div.sk-container {/* jupyter's `normalize.less` sets `[hidden] { display: none; }` but bootstrap.min.css set `[hidden] { display: none !important; }` so we also need the `!important` here to be able to override the default hidden behavior on the sphinx rendered scikit-learn.org. See: https://github.com/scikit-learn/scikit-learn/issues/21755 */display: inline-block !important;position: relative;}#sk-container-id-14 div.sk-text-repr-fallback {display: none;}</style><div id=\"sk-container-id-14\" class=\"sk-top-container\"><div class=\"sk-text-repr-fallback\"><pre>XGBRegressor(base_score=None, booster=None, callbacks=None,\n",
       "             colsample_bylevel=None, colsample_bynode=None,\n",
       "             colsample_bytree=None, device=&#x27;cuda&#x27;, early_stopping_rounds=200,\n",
       "             enable_categorical=True, eval_metric=None,\n",
       "             eval_metrics=&lt;function mean_squared_error at 0x7f6bf8f90d30&gt;,\n",
       "             feature_types=None, gamma=None, grow_policy=None,\n",
       "             importance_type=None, interaction_constraints=None,\n",
       "             learning_rate=0.001, max_bin=None, max_cat_threshold=None,\n",
       "             max_cat_to_onehot=None, max_delta_step=None, max_depth=None,\n",
       "             max_leaves=None, min_child_weight=None, missing=nan,\n",
       "             monotone_constraints=None, multi_strategy=None, n_estimators=2500,\n",
       "             n_jobs=None, num_parallel_tree=None, ...)</pre><b>In a Jupyter environment, please rerun this cell to show the HTML representation or trust the notebook. <br />On GitHub, the HTML representation is unable to render, please try loading this page with nbviewer.org.</b></div><div class=\"sk-container\" hidden><div class=\"sk-item\"><div class=\"sk-estimator sk-toggleable\"><input class=\"sk-toggleable__control sk-hidden--visually\" id=\"sk-estimator-id-14\" type=\"checkbox\" checked><label for=\"sk-estimator-id-14\" class=\"sk-toggleable__label sk-toggleable__label-arrow\">XGBRegressor</label><div class=\"sk-toggleable__content\"><pre>XGBRegressor(base_score=None, booster=None, callbacks=None,\n",
       "             colsample_bylevel=None, colsample_bynode=None,\n",
       "             colsample_bytree=None, device=&#x27;cuda&#x27;, early_stopping_rounds=200,\n",
       "             enable_categorical=True, eval_metric=None,\n",
       "             eval_metrics=&lt;function mean_squared_error at 0x7f6bf8f90d30&gt;,\n",
       "             feature_types=None, gamma=None, grow_policy=None,\n",
       "             importance_type=None, interaction_constraints=None,\n",
       "             learning_rate=0.001, max_bin=None, max_cat_threshold=None,\n",
       "             max_cat_to_onehot=None, max_delta_step=None, max_depth=None,\n",
       "             max_leaves=None, min_child_weight=None, missing=nan,\n",
       "             monotone_constraints=None, multi_strategy=None, n_estimators=2500,\n",
       "             n_jobs=None, num_parallel_tree=None, ...)</pre></div></div></div></div></div>"
      ],
      "text/plain": [
       "XGBRegressor(base_score=None, booster=None, callbacks=None,\n",
       "             colsample_bylevel=None, colsample_bynode=None,\n",
       "             colsample_bytree=None, device='cuda', early_stopping_rounds=200,\n",
       "             enable_categorical=True, eval_metric=None,\n",
       "             eval_metrics=<function mean_squared_error at 0x7f6bf8f90d30>,\n",
       "             feature_types=None, gamma=None, grow_policy=None,\n",
       "             importance_type=None, interaction_constraints=None,\n",
       "             learning_rate=0.001, max_bin=None, max_cat_threshold=None,\n",
       "             max_cat_to_onehot=None, max_delta_step=None, max_depth=None,\n",
       "             max_leaves=None, min_child_weight=None, missing=nan,\n",
       "             monotone_constraints=None, multi_strategy=None, n_estimators=2500,\n",
       "             n_jobs=None, num_parallel_tree=None, ...)"
      ]
     },
     "execution_count": 47,
     "metadata": {},
     "output_type": "execute_result"
    }
   ],
   "source": [
    "xgb_reg = xgb.XGBRegressor(n_estimators = 2500,\n",
    "                           eval_metrics = mean_squared_error,\n",
    "                           enable_categorical = True,\n",
    "                           early_stopping_rounds = 200,\n",
    "                           learning_rate = 0.001,\n",
    "                           device = 'cuda',\n",
    "                           random_state = 244)\n",
    "xgb_reg.fit(X = X_train,\n",
    "            y = y_train,\n",
    "            eval_set = [(X_train, y_train), (X_test, y_test)],\n",
    "            verbose = 100)"
   ]
  },
  {
   "cell_type": "code",
   "execution_count": 43,
   "metadata": {},
   "outputs": [
    {
     "data": {
      "text/html": [
       "<div>\n",
       "<style scoped>\n",
       "    .dataframe tbody tr th:only-of-type {\n",
       "        vertical-align: middle;\n",
       "    }\n",
       "\n",
       "    .dataframe tbody tr th {\n",
       "        vertical-align: top;\n",
       "    }\n",
       "\n",
       "    .dataframe thead th {\n",
       "        text-align: right;\n",
       "    }\n",
       "</style>\n",
       "<table border=\"1\" class=\"dataframe\">\n",
       "  <thead>\n",
       "    <tr style=\"text-align: right;\">\n",
       "      <th></th>\n",
       "      <th>Sales</th>\n",
       "    </tr>\n",
       "  </thead>\n",
       "  <tbody>\n",
       "    <tr>\n",
       "      <th>9840</th>\n",
       "      <td>4000.000000</td>\n",
       "    </tr>\n",
       "    <tr>\n",
       "      <th>9831</th>\n",
       "      <td>3392.000000</td>\n",
       "    </tr>\n",
       "    <tr>\n",
       "      <th>9787</th>\n",
       "      <td>3076.000000</td>\n",
       "    </tr>\n",
       "    <tr>\n",
       "      <th>9843</th>\n",
       "      <td>2734.000000</td>\n",
       "    </tr>\n",
       "    <tr>\n",
       "      <th>24946</th>\n",
       "      <td>2604.000000</td>\n",
       "    </tr>\n",
       "    <tr>\n",
       "      <th>...</th>\n",
       "      <td>...</td>\n",
       "    </tr>\n",
       "    <tr>\n",
       "      <th>35040</th>\n",
       "      <td>0.099976</td>\n",
       "    </tr>\n",
       "    <tr>\n",
       "      <th>29177</th>\n",
       "      <td>-2.900391</td>\n",
       "    </tr>\n",
       "    <tr>\n",
       "      <th>30945</th>\n",
       "      <td>-5.000000</td>\n",
       "    </tr>\n",
       "    <tr>\n",
       "      <th>3403</th>\n",
       "      <td>-5.199219</td>\n",
       "    </tr>\n",
       "    <tr>\n",
       "      <th>7396</th>\n",
       "      <td>-100.000000</td>\n",
       "    </tr>\n",
       "  </tbody>\n",
       "</table>\n",
       "<p>37683 rows × 1 columns</p>\n",
       "</div>"
      ],
      "text/plain": [
       "             Sales\n",
       "9840   4000.000000\n",
       "9831   3392.000000\n",
       "9787   3076.000000\n",
       "9843   2734.000000\n",
       "24946  2604.000000\n",
       "...            ...\n",
       "35040     0.099976\n",
       "29177    -2.900391\n",
       "30945    -5.000000\n",
       "3403     -5.199219\n",
       "7396   -100.000000\n",
       "\n",
       "[37683 rows x 1 columns]"
      ]
     },
     "execution_count": 43,
     "metadata": {},
     "output_type": "execute_result"
    }
   ],
   "source": []
  },
  {
   "cell_type": "code",
   "execution_count": null,
   "metadata": {},
   "outputs": [],
   "source": []
  }
 ],
 "metadata": {
  "kernelspec": {
   "display_name": "Python 3 (ipykernel)",
   "language": "python",
   "name": "python3"
  },
  "language_info": {
   "codemirror_mode": {
    "name": "ipython",
    "version": 3
   },
   "file_extension": ".py",
   "mimetype": "text/x-python",
   "name": "python",
   "nbconvert_exporter": "python",
   "pygments_lexer": "ipython3",
   "version": "3.10.13"
  }
 },
 "nbformat": 4,
 "nbformat_minor": 2
}
